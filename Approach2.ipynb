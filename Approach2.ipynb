{
 "cells": [
  {
   "cell_type": "code",
   "execution_count": null,
   "metadata": {},
   "outputs": [],
   "source": [
    "%cd data"
   ]
  },
  {
   "cell_type": "code",
   "execution_count": 2,
   "metadata": {},
   "outputs": [
    {
     "name": "stdout",
     "output_type": "stream",
     "text": [
      "LICENSE.txt                 glove.twitter.27B.zip\r\n",
      "README.md                   glove.twitter.27B.zip.1\r\n",
      "class                       images\r\n",
      "dev.jsonl                   \u001b[34mimg\u001b[m\u001b[m/\r\n",
      "glove.twitter.27B.100d.txt  test.jsonl\r\n",
      "glove.twitter.27B.200d.txt  text\r\n",
      "glove.twitter.27B.25d.txt   train.csv\r\n",
      "glove.twitter.27B.50d.txt   train.jsonl\r\n"
     ]
    }
   ],
   "source": [
    "%ls"
   ]
  },
  {
   "cell_type": "code",
   "execution_count": 3,
   "metadata": {},
   "outputs": [],
   "source": [
    "import pandas as pd\n",
    "import numpy as np"
   ]
  },
  {
   "cell_type": "code",
   "execution_count": 5,
   "metadata": {},
   "outputs": [
    {
     "data": {
      "text/html": [
       "<div>\n",
       "<style scoped>\n",
       "    .dataframe tbody tr th:only-of-type {\n",
       "        vertical-align: middle;\n",
       "    }\n",
       "\n",
       "    .dataframe tbody tr th {\n",
       "        vertical-align: top;\n",
       "    }\n",
       "\n",
       "    .dataframe thead th {\n",
       "        text-align: right;\n",
       "    }\n",
       "</style>\n",
       "<table border=\"1\" class=\"dataframe\">\n",
       "  <thead>\n",
       "    <tr style=\"text-align: right;\">\n",
       "      <th></th>\n",
       "      <th>id</th>\n",
       "      <th>img</th>\n",
       "      <th>label</th>\n",
       "      <th>text</th>\n",
       "    </tr>\n",
       "  </thead>\n",
       "  <tbody>\n",
       "    <tr>\n",
       "      <th>0</th>\n",
       "      <td>42953</td>\n",
       "      <td>img/42953.png</td>\n",
       "      <td>0</td>\n",
       "      <td>its their character not their color that matters</td>\n",
       "    </tr>\n",
       "    <tr>\n",
       "      <th>1</th>\n",
       "      <td>23058</td>\n",
       "      <td>img/23058.png</td>\n",
       "      <td>0</td>\n",
       "      <td>don't be afraid to love again everyone is not ...</td>\n",
       "    </tr>\n",
       "    <tr>\n",
       "      <th>2</th>\n",
       "      <td>13894</td>\n",
       "      <td>img/13894.png</td>\n",
       "      <td>0</td>\n",
       "      <td>putting bows on your pet</td>\n",
       "    </tr>\n",
       "    <tr>\n",
       "      <th>3</th>\n",
       "      <td>37408</td>\n",
       "      <td>img/37408.png</td>\n",
       "      <td>0</td>\n",
       "      <td>i love everything and everybody! except for sq...</td>\n",
       "    </tr>\n",
       "    <tr>\n",
       "      <th>4</th>\n",
       "      <td>82403</td>\n",
       "      <td>img/82403.png</td>\n",
       "      <td>0</td>\n",
       "      <td>everybody loves chocolate chip cookies, even h...</td>\n",
       "    </tr>\n",
       "  </tbody>\n",
       "</table>\n",
       "</div>"
      ],
      "text/plain": [
       "      id            img  label  \\\n",
       "0  42953  img/42953.png      0   \n",
       "1  23058  img/23058.png      0   \n",
       "2  13894  img/13894.png      0   \n",
       "3  37408  img/37408.png      0   \n",
       "4  82403  img/82403.png      0   \n",
       "\n",
       "                                                text  \n",
       "0   its their character not their color that matters  \n",
       "1  don't be afraid to love again everyone is not ...  \n",
       "2                           putting bows on your pet  \n",
       "3  i love everything and everybody! except for sq...  \n",
       "4  everybody loves chocolate chip cookies, even h...  "
      ]
     },
     "execution_count": 5,
     "metadata": {},
     "output_type": "execute_result"
    }
   ],
   "source": [
    "df=pd.read_csv('train.csv')\n",
    "df.head()"
   ]
  },
  {
   "cell_type": "code",
   "execution_count": 6,
   "metadata": {},
   "outputs": [],
   "source": [
    "sdf1=df[df['label'].eq(0)].sample(1900)\n",
    "sdf1.reset_index(drop=True)\n",
    "tdf1=sdf1[-400:]\n",
    "sdf1=sdf1[:-400]"
   ]
  },
  {
   "cell_type": "code",
   "execution_count": 7,
   "metadata": {},
   "outputs": [],
   "source": [
    "sdf2=df[df['label'].eq(1)].sample(700)\n",
    "sdf2.reset_index(drop=True)\n",
    "tdf2=sdf2[-200:]\n",
    "sdf2=sdf2[:-200]"
   ]
  },
  {
   "cell_type": "code",
   "execution_count": 8,
   "metadata": {},
   "outputs": [],
   "source": [
    "sdf=pd.concat([sdf1,sdf2],axis=0)\n",
    "tdf=pd.concat([tdf1,tdf2],axis=0)"
   ]
  },
  {
   "cell_type": "code",
   "execution_count": 9,
   "metadata": {},
   "outputs": [
    {
     "name": "stdout",
     "output_type": "stream",
     "text": [
      "<class 'pandas.core.frame.DataFrame'>\n",
      "Int64Index: 2000 entries, 7082 to 4442\n",
      "Data columns (total 4 columns):\n",
      " #   Column  Non-Null Count  Dtype \n",
      "---  ------  --------------  ----- \n",
      " 0   id      2000 non-null   int64 \n",
      " 1   img     2000 non-null   object\n",
      " 2   label   2000 non-null   int64 \n",
      " 3   text    2000 non-null   object\n",
      "dtypes: int64(2), object(2)\n",
      "memory usage: 78.1+ KB\n"
     ]
    }
   ],
   "source": [
    "sdf.info()"
   ]
  },
  {
   "cell_type": "code",
   "execution_count": 10,
   "metadata": {},
   "outputs": [
    {
     "name": "stdout",
     "output_type": "stream",
     "text": [
      "<class 'pandas.core.frame.DataFrame'>\n",
      "Int64Index: 600 entries, 4694 to 8139\n",
      "Data columns (total 4 columns):\n",
      " #   Column  Non-Null Count  Dtype \n",
      "---  ------  --------------  ----- \n",
      " 0   id      600 non-null    int64 \n",
      " 1   img     600 non-null    object\n",
      " 2   label   600 non-null    int64 \n",
      " 3   text    600 non-null    object\n",
      "dtypes: int64(2), object(2)\n",
      "memory usage: 23.4+ KB\n"
     ]
    }
   ],
   "source": [
    "tdf.info()"
   ]
  },
  {
   "cell_type": "code",
   "execution_count": 41,
   "metadata": {},
   "outputs": [],
   "source": [
    "sdf=sdf.sample(frac=1)\n",
    "tdf=tdf.sample(frac=1)\n",
    "sdf=sdf.reset_index(drop=True)\n",
    "tdf=tdf.reset_index(drop=True)"
   ]
  },
  {
   "cell_type": "code",
   "execution_count": 12,
   "metadata": {},
   "outputs": [
    {
     "name": "stdout",
     "output_type": "stream",
     "text": [
      "--2020-09-22 23:33:00--  http://nlp.stanford.edu/data/glove.twitter.27B.zip\n",
      "Resolving nlp.stanford.edu (nlp.stanford.edu)... 171.64.67.140\n",
      "Connecting to nlp.stanford.edu (nlp.stanford.edu)|171.64.67.140|:80... connected.\n",
      "HTTP request sent, awaiting response... 302 Found\n",
      "Location: https://nlp.stanford.edu/data/glove.twitter.27B.zip [following]\n",
      "--2020-09-22 23:33:00--  https://nlp.stanford.edu/data/glove.twitter.27B.zip\n",
      "Connecting to nlp.stanford.edu (nlp.stanford.edu)|171.64.67.140|:443... connected.\n",
      "HTTP request sent, awaiting response... 301 Moved Permanently\n",
      "Location: http://downloads.cs.stanford.edu/nlp/data/glove.twitter.27B.zip [following]\n",
      "--2020-09-22 23:33:02--  http://downloads.cs.stanford.edu/nlp/data/glove.twitter.27B.zip\n",
      "Resolving downloads.cs.stanford.edu (downloads.cs.stanford.edu)... 171.64.64.22\n",
      "Connecting to downloads.cs.stanford.edu (downloads.cs.stanford.edu)|171.64.64.22|:80... connected.\n",
      "HTTP request sent, awaiting response... 200 OK\n",
      "Length: 1520408563 (1.4G) [application/zip]\n",
      "Saving to: ‘glove.twitter.27B.zip.1’\n",
      "\n",
      "glove.twitter.27B.z   0%[                    ]       0  --.-KB/s               ^C\n"
     ]
    }
   ],
   "source": [
    "# !wget http://nlp.stanford.edu/data/glove.twitter.27B.zip"
   ]
  },
  {
   "cell_type": "code",
   "execution_count": 39,
   "metadata": {},
   "outputs": [],
   "source": [
    "# import zipfile\n",
    "# zip = zipfile.ZipFile('glove.twitter.27B.zip')\n",
    "# zip.extractall()"
   ]
  },
  {
   "cell_type": "code",
   "execution_count": 4,
   "metadata": {},
   "outputs": [
    {
     "name": "stdout",
     "output_type": "stream",
     "text": [
      "Found 1193514 word vectors in pretrained word vector model.\n",
      "Dimensions of the vector space :  25\n"
     ]
    }
   ],
   "source": [
    "embeddings_index = {}\n",
    "f = open('glove.twitter.27B.25d.txt')\n",
    "for line in f:\n",
    "    values = line.split()\n",
    "    word = values[0]\n",
    "    coefs = np.asarray(values[1:], dtype='float32')\n",
    "    embeddings_index[word] = coefs\n",
    "f.close()\n",
    "\n",
    "print('Found %s word vectors in pretrained word vector model.' % len(embeddings_index))\n",
    "print('Dimensions of the vector space : ', len(embeddings_index['the']))"
   ]
  },
  {
   "cell_type": "code",
   "execution_count": 5,
   "metadata": {},
   "outputs": [],
   "source": [
    "import cv2\n",
    "import pickle\n",
    "import os"
   ]
  },
  {
   "cell_type": "code",
   "execution_count": 42,
   "metadata": {},
   "outputs": [
    {
     "data": {
      "text/html": [
       "<div>\n",
       "<style scoped>\n",
       "    .dataframe tbody tr th:only-of-type {\n",
       "        vertical-align: middle;\n",
       "    }\n",
       "\n",
       "    .dataframe tbody tr th {\n",
       "        vertical-align: top;\n",
       "    }\n",
       "\n",
       "    .dataframe thead th {\n",
       "        text-align: right;\n",
       "    }\n",
       "</style>\n",
       "<table border=\"1\" class=\"dataframe\">\n",
       "  <thead>\n",
       "    <tr style=\"text-align: right;\">\n",
       "      <th></th>\n",
       "      <th>id</th>\n",
       "      <th>img</th>\n",
       "      <th>label</th>\n",
       "      <th>text</th>\n",
       "    </tr>\n",
       "  </thead>\n",
       "  <tbody>\n",
       "    <tr>\n",
       "      <th>0</th>\n",
       "      <td>56418</td>\n",
       "      <td>img/56418.png</td>\n",
       "      <td>0</td>\n",
       "      <td>notice the difference talk show host vietnam w...</td>\n",
       "    </tr>\n",
       "    <tr>\n",
       "      <th>1</th>\n",
       "      <td>15062</td>\n",
       "      <td>img/15062.png</td>\n",
       "      <td>0</td>\n",
       "      <td>this is vitiligo, the same disease that michae...</td>\n",
       "    </tr>\n",
       "    <tr>\n",
       "      <th>2</th>\n",
       "      <td>87120</td>\n",
       "      <td>img/87120.png</td>\n",
       "      <td>0</td>\n",
       "      <td>islam's trojan horse the the only reason truth...</td>\n",
       "    </tr>\n",
       "    <tr>\n",
       "      <th>3</th>\n",
       "      <td>20485</td>\n",
       "      <td>img/20485.png</td>\n",
       "      <td>0</td>\n",
       "      <td>friendly reminder: a hooker and con man are in...</td>\n",
       "    </tr>\n",
       "    <tr>\n",
       "      <th>4</th>\n",
       "      <td>91768</td>\n",
       "      <td>img/91768.png</td>\n",
       "      <td>0</td>\n",
       "      <td>wtf am i wearing</td>\n",
       "    </tr>\n",
       "  </tbody>\n",
       "</table>\n",
       "</div>"
      ],
      "text/plain": [
       "      id            img  label  \\\n",
       "0  56418  img/56418.png      0   \n",
       "1  15062  img/15062.png      0   \n",
       "2  87120  img/87120.png      0   \n",
       "3  20485  img/20485.png      0   \n",
       "4  91768  img/91768.png      0   \n",
       "\n",
       "                                                text  \n",
       "0  notice the difference talk show host vietnam w...  \n",
       "1  this is vitiligo, the same disease that michae...  \n",
       "2  islam's trojan horse the the only reason truth...  \n",
       "3  friendly reminder: a hooker and con man are in...  \n",
       "4                                   wtf am i wearing  "
      ]
     },
     "execution_count": 42,
     "metadata": {},
     "output_type": "execute_result"
    }
   ],
   "source": [
    "sdf.head()"
   ]
  },
  {
   "cell_type": "code",
   "execution_count": 44,
   "metadata": {},
   "outputs": [],
   "source": [
    "# imglist=[]\n",
    "# textlist =[]\n",
    "# classlist = []\n",
    "# for i in range(len(sdf['img'])):\n",
    "# #     print(sdf['img'][i])\n",
    "#     img=cv2.imread(sdf['img'][i])\n",
    "#     img=cv2.resize(img,(128,128))\n",
    "#     imglist.append(img)\n",
    "#     textlist.append(sdf['text'][i])\n",
    "#     classlist.append(sdf['label'][i])"
   ]
  },
  {
   "cell_type": "code",
   "execution_count": 31,
   "metadata": {},
   "outputs": [],
   "source": [
    "# cv2.imshow(\"image\",imglist[0])\n",
    "# cv2.waitKey(0)\n",
    "# cv2.destroyAllWindows()"
   ]
  },
  {
   "cell_type": "code",
   "execution_count": 45,
   "metadata": {},
   "outputs": [],
   "source": [
    "# import pickle \n",
    "\n",
    "# filename='images'\n",
    "# outfile=open(filename,'wb')\n",
    "# pickle.dump(imglist,outfile)\n",
    "# outfile.close()\n",
    "\n",
    "# filename='text'\n",
    "# outfile=open(filename,'wb')\n",
    "# pickle.dump(textlist,outfile)\n",
    "# outfile.close()\n",
    "\n",
    "# filename='class'\n",
    "# outfile=open(filename,'wb')\n",
    "# pickle.dump(classlist,outfile)\n",
    "# outfile.close()"
   ]
  },
  {
   "cell_type": "code",
   "execution_count": 6,
   "metadata": {},
   "outputs": [],
   "source": [
    "import pickle\n",
    "infile=open('images','rb')\n",
    "imglist=pickle.load(infile)\n",
    "infile.close()\n",
    "\n",
    "infile=open('text','rb')\n",
    "textlist=pickle.load(infile)\n",
    "infile.close()\n",
    "\n",
    "infile=open('class','rb')\n",
    "classlist=pickle.load(infile)\n",
    "infile.close()\n"
   ]
  },
  {
   "cell_type": "code",
   "execution_count": 7,
   "metadata": {},
   "outputs": [
    {
     "data": {
      "text/plain": [
       "2000"
      ]
     },
     "execution_count": 7,
     "metadata": {},
     "output_type": "execute_result"
    }
   ],
   "source": [
    "len(textlist)"
   ]
  },
  {
   "cell_type": "code",
   "execution_count": 8,
   "metadata": {},
   "outputs": [
    {
     "data": {
      "text/plain": [
       "(2000, 128, 128, 3)"
      ]
     },
     "execution_count": 8,
     "metadata": {},
     "output_type": "execute_result"
    }
   ],
   "source": [
    "imglist=np.asarray(imglist)\n",
    "imglist.shape"
   ]
  },
  {
   "cell_type": "code",
   "execution_count": 9,
   "metadata": {},
   "outputs": [],
   "source": [
    "textlist=np.asarray(textlist)"
   ]
  },
  {
   "cell_type": "code",
   "execution_count": 10,
   "metadata": {},
   "outputs": [
    {
     "name": "stdout",
     "output_type": "stream",
     "text": [
      "Counter({0: 1500, 1: 500})\n"
     ]
    }
   ],
   "source": [
    "class2=np.asarray(classlist)\n",
    "from collections import Counter\n",
    "print(Counter(classlist))"
   ]
  },
  {
   "cell_type": "code",
   "execution_count": 13,
   "metadata": {},
   "outputs": [],
   "source": [
    "from keras.utils import np_utils\n",
    "y_train=np_utils.to_categorical(class2)"
   ]
  },
  {
   "cell_type": "code",
   "execution_count": 16,
   "metadata": {},
   "outputs": [
    {
     "name": "stdout",
     "output_type": "stream",
     "text": [
      "Found 4400 unique tokens.\n",
      "{'the': 1, 'you': 2, 'a': 3, 'to': 4, 'i': 5, 'and': 6, 'when': 7, 'is': 8, 'of': 9, 'in': 10, 'your': 11, 'my': 12, 'for': 13, 'it': 14, 'this': 15, 'me': 16, 'are': 17, 'that': 18, 'with': 19, 'like': 20, 'but': 21, 'not': 22, 'on': 23, 'have': 24, 'they': 25, 'people': 26, 'be': 27, 'what': 28, 'if': 29, 'so': 30, 'we': 31, \"i'm\": 32, \"you're\": 33, 'do': 34, 'at': 35, 'all': 36, \"don't\": 37, 'just': 38, 'up': 39, \"it's\": 40, 'get': 41, 'no': 42, 'how': 43, 'out': 44, 'was': 45, 'one': 46, 'can': 47, 'black': 48, 'white': 49, 'from': 50, 'see': 51, 'about': 52, 'them': 53, 'she': 54, 'will': 55, 'he': 56, 'an': 57, 'as': 58, 'his': 59, 'their': 60, \"can't\": 61, 'why': 62, 'day': 63, 'muslim': 64, 'shit': 65, 'know': 66, 'fuck': 67, 'look': 68, 'make': 69, 'who': 70, 'time': 71, 'man': 72, 'there': 73, 'only': 74, 'now': 75, 'has': 76, 'her': 77, 'or': 78, 'am': 79, 'love': 80, 'after': 81, 'want': 82, 'because': 83, 'muslims': 84, 'then': 85, 'our': 86, 'trump': 87, 'got': 88, 'go': 89, 'think': 90, 'new': 91, 'us': 92, 'goat': 93, 'say': 94, 'too': 95, 'here': 96, 'back': 97, 'by': 98, 'life': 99, 'need': 100, 'more': 101, 'good': 102, 'some': 103, 'than': 104, 'never': 105, 'said': 106, 'going': 107, 'kids': 108, 'women': 109, 'take': 110, 'tranny': 111, 'fucking': 112, 'stop': 113, 'girl': 114, 'kill': 115, 'find': 116, 'america': 117, 'dishwasher': 118, 'give': 119, 'country': 120, 'first': 121, 'had': 122, 'where': 123, 'right': 124, 'should': 125, 'him': 126, 'still': 127, 'hate': 128, 'bitch': 129, 'did': 130, 'much': 131, 'over': 132, 'obama': 133, 'before': 134, \"i'll\": 135, 'being': 136, 'happy': 137, 'again': 138, 'told': 139, 'someone': 140, 'call': 141, 'oh': 142, 'gay': 143, 'dick': 144, 'these': 145, 'keep': 146, 'home': 147, 'little': 148, 'car': 149, 'friend': 150, 'old': 151, 'other': 152, 'really': 153, 'way': 154, 'tell': 155, 'please': 156, \"doesn't\": 157, 'off': 158, 'guy': 159, \"didn't\": 160, 'mom': 161, 'islam': 162, 'everyone': 163, 'gets': 164, 'gonna': 165, 'last': 166, 'come': 167, 'into': 168, 'baby': 169, 'children': 170, 'bomb': 171, 'god': 172, 'were': 173, 'racist': 174, 'another': 175, 'jews': 176, 'school': 177, 'let': 178, 'even': 179, 'ass': 180, \"what's\": 181, 'u': 182, 'says': 183, 'doing': 184, 'stupid': 185, 'been': 186, 'men': 187, 'its': 188, \"''\": 189, '3': 190, 'left': 191, 'made': 192, 'every': 193, 'free': 194, 'years': 195, 'getting': 196, 'while': 197, 'american': 198, 'isis': 199, 'allah': 200, 'religion': 201, 'does': 202, 'food': 203, 'today': 204, 'sex': 205, 'talk': 206, 'many': 207, 'wrong': 208, 'well': 209, 'dad': 210, \"i've\": 211, 'year': 212, 'long': 213, 'friends': 214, 'makes': 215, 'yes': 216, 'gas': 217, 'put': 218, 'im': 219, 'forget': 220, 'show': 221, 'eat': 222, 'wanna': 223, 'own': 224, 'anything': 225, 'sister': 226, \"that's\": 227, 'peace': 228, 'best': 229, \"he's\": 230, 'sorry': 231, 'better': 232, 'something': 233, 'same': 234, 'house': 235, 'thing': 236, 'any': 237, 'president': 238, 'congress': 239, 'real': 240, 'found': 241, \"let's\": 242, 'those': 243, 'most': 244, 'enough': 245, 'child': 246, 'illegal': 247, 'post': 248, 'would': 249, 'help': 250, \"isn't\": 251, 'went': 252, 'wife': 253, 'difference': 254, 'rape': 255, 'bad': 256, '4': 257, 'blow': 258, 'remember': 259, 'kind': 260, 'damn': 261, 'problem': 262, 'wear': 263, 'mean': 264, 'goats': 265, 'ask': 266, 'kid': 267, 'guys': 268, 'until': 269, 'yourself': 270, 'instead': 271, 'ilhan': 272, 'omar': 273, 'yeah': 274, 'hear': 275, '1': 276, 'could': 277, 'live': 278, 'jewish': 279, 'club': 280, 'play': 281, 'always': 282, 'part': 283, 'nothing': 284, 'ever': 285, 'mad': 286, 'person': 287, 'job': 288, 'name': 289, 'face': 290, 'cute': 291, 'looking': 292, 'bro': 293, 'jew': 294, 'race': 295, 'die': 296, 'hard': 297, 'son': 298, 'pregnant': 299, 'already': 300, 'everything': 301, 'girls': 302, '000': 303, 'down': 304, 'hey': 305, 'killing': 306, 'cat': 307, '6': 308, 'million': 309, 'mother': 310, 'hitler': 311, 'work': 312, 'human': 313, 'wait': 314, 'trash': 315, 'between': 316, 'trying': 317, 'catch': 318, 'dark': 319, 'feel': 320, 'enemy': 321, 'birthday': 322, 'having': 323, 'finally': 324, 'started': 325, 'christians': 326, 'nation': 327, 'dont': 328, 'sure': 329, 'allowed': 330, 'mouth': 331, 'called': 332, 'boy': 333, 'gives': 334, 'dogs': 335, 'support': 336, 'things': 337, '5': 338, 'bitches': 339, 'each': 340, 'gun': 341, 'news': 342, 'saying': 343, 'wants': 344, 'anne': 345, 'frank': 346, 'meanwhile': 347, 'strip': 348, 'suicide': 349, 'turn': 350, 'open': 351, 'asshole': 352, 'very': 353, 'fire': 354, \"they're\": 355, 'matter': 356, 'family': 357, 'joke': 358, 'few': 359, 'try': 360, 'ex': 361, 'report': 362, 'woman': 363, 'run': 364, 'looks': 365, 'answer': 366, 'next': 367, 'great': 368, 'color': 369, 'working': 370, 'suck': 371, 'tired': 372, 'needs': 373, \"i'd\": 374, 'fight': 375, 'feeling': 376, 'understand': 377, 'fucked': 378, 'bruce': 379, 'dog': 380, 'polish': 381, 'born': 382, \"there's\": 383, 'start': 384, 'terrorist': 385, 'fucker': 386, 'ready': 387, 'high': 388, 'cool': 389, 'drive': 390, \"you'll\": 391, 'during': 392, 'beautiful': 393, 'world': 394, 'power': 395, 'talking': 396, 'ones': 397, 'big': 398, 'destroy': 399, 'ban': 400, 'both': 401, 'aliens': 402, 'used': 403, 'offended': 404, 'maybe': 405, 'thats': 406, 'fun': 407, 'place': 408, 'move': 409, 'proof': 410, 'young': 411, 'hello': 412, 'hope': 413, 'else': 414, 'government': 415, 'behind': 416, 'walmart': 417, 'anal': 418, \"she's\": 419, 'pudding': 420, 'problems': 421, 'full': 422, 'pay': 423, 'hungry': 424, 'hit': 425, 'wall': 426, 'died': 427, 'money': 428, 'away': 429, 'girlfriend': 430, 'michelle': 431, 'actually': 432, 'welcome': 433, 'auschwitz': 434, 'coming': 435, 'lost': 436, 'gave': 437, 'stand': 438, 'ugly': 439, 'wearing': 440, 'listen': 441, \"you've\": 442, '2019': 443, '2': 444, 'drink': 445, 'control': 446, 'truck': 447, 'single': 448, 'democrats': 449, 'group': 450, 'picture': 451, 'also': 452, 'goes': 453, 'israel': 454, 'memes': 455, 'gender': 456, 'become': 457, 'cotton': 458, 'trans': 459, 'evil': 460, 'share': 461, 'lives': 462, 'came': 463, 'gotta': 464, 'stole': 465, 'parents': 466, 'hot': 467, 'room': 468, 'nobody': 469, 'guns': 470, 'two': 471, 'without': 472, 'crime': 473, 'future': 474, 'rashida': 475, 'tlaib': 476, 'crying': 477, 'racism': 478, 'front': 479, 'heaven': 480, 'photo': 481, 'father': 482, 'follow': 483, 'comes': 484, 'hand': 485, 'hillary': 486, 'funny': 487, 'squad': 488, 'broken': 489, 'head': 490, 'inside': 491, 'watch': 492, 's': 493, 'believe': 494, 'mexicans': 495, 'seen': 496, 'making': 497, 'attention': 498, 'around': 499, 'vote': 500, 'culture': 501, 'beer': 502, 'eye': 503, 'removes': 504, 'chemicals': 505, \"who's\": 506, 'truth': 507, 'done': 508, 'democrat': 509, 'idea': 510, 'clean': 511, 'water': 512, 'snort': 513, 'flag': 514, 'letter': 515, 'folks': 516, 'which': 517, 'innocent': 518, 'against': 519, 'streets': 520, 'burn': 521, 'bombing': 522, 'sale': 523, 'mental': 524, 'disorder': 525, 'everybody': 526, 'killed': 527, 'join': 528, 'abuse': 529, 'panties': 530, 'remind': 531, 'slavery': 532, \"ain't\": 533, 'learn': 534, 'trust': 535, 'cock': 536, 'middle': 537, 'either': 538, 'liberals': 539, 'hold': 540, 'heart': 541, 'point': 542, 'asked': 543, 'mexican': 544, \"here's\": 545, 'hands': 546, 'page': 547, 'slaves': 548, 'smile': 549, 'asks': 550, 'attack': 551, 'mueller': 552, 'keeps': 553, 'pride': 554, 'times': 555, \"we're\": 556, 'bag': 557, 'through': 558, 'camp': 559, 'skin': 560, 'since': 561, 'blind': 562, 'bacon': 563, 'bringing': 564, 'date': 565, 'pet': 566, 'cents': 567, 'delicious': 568, 'feet': 569, 'build': 570, 'sea': 571, 'starts': 572, 'hell': 573, 'telling': 574, 'games': 575, 'loses': 576, 'anyone': 577, \"they'll\": 578, 'protect': 579, 'happen': 580, 'mohammed': 581, 'pull': 582, 'americans': 583, '9': 584, 'spot': 585, 'media': 586, 'liberal': 587, 'brother': 588, 'pick': 589, 'crazy': 590, 'breaking': 591, 'music': 592, 'fuckin': 593, 'shot': 594, 'asking': 595, 'days': 596, 'send': 597, 'ok': 598, 'blacks': 599, 'war': 600, 'horse': 601, 'reason': 602, 'uncle': 603, 'thinking': 604, 'three': 605, 'terrorism': 606, 'homeland': 607, 'security': 608, 'longer': 609, 'immigrants': 610, 'confused': 611, 'use': 612, '2017': 613, 'small': 614, 'belong': 615, 'week': 616, 'missing': 617, 'john': 618, 'change': 619, 'usa': 620, 'loves': 621, 'female': 622, 'party': 623, 'animals': 624, 'domestic': 625, 'silk': 626, 'anymore': 627, 'choice': 628, 'choose': 629, 'walk': 630, 'form': 631, 'under': 632, 'military': 633, 'agree': 634, \"haven't\": 635, 'yo': 636, 'slave': 637, 'twice': 638, 'bear': 639, 'deal': 640, 't': 641, 'eyes': 642, '50': 643, 'justin': 644, 'canada': 645, 'fish': 646, \"wasn't\": 647, 'realize': 648, 'word': 649, 'eating': 650, 'happens': 651, 'babies': 652, 'ignorant': 653, 'african': 654, 'humor': 655, 'safe': 656, 'shut': 657, 'myself': 658, '30': 659, 'ya': 660, 'jesus': 661, 'boys': 662, 'clinton': 663, 'secret': 664, 'ahmed': 665, 'dating': 666, 'posts': 667, 'abortion': 668, 'restaurant': 669, '2016': 670, '99': 671, 'march': 672, 'supporters': 673, 'pray': 674, 'piss': 675, 'red': 676, 'once': 677, 'tree': 678, 'okay': 679, 'steal': 680, 'phone': 681, 'speak': 682, 'teach': 683, '11': 684, 'wish': 685, 'education': 686, 'nuclear': 687, '18': 688, 'top': 689, 'husband': 690, 'law': 691, 'plays': 692, 'genocide': 693, 'game': 694, '20': 695, 'sent': 696, 'anti': 697, 'chamber': 698, 'church': 699, 'vs': 700, 'fighting': 701, 'nahir': 702, 'fluffy': 703, 'list': 704, 'asian': 705, 'shoot': 706, 'box': 707, 'sandwich': 708, 'must': 709, 'monkeys': 710, 'kitchen': 711, 'islamic': 712, 'holocaust': 713, 'grow': 714, '10': 715, 'half': 716, 'kiss': 717, 'pedophile': 718, 'shooting': 719, 'care': 720, 'simple': 721, 'hair': 722, 'suffer': 723, 'park': 724, 'knows': 725, \"lyin'\": 726, '2001': 727, 'jobs': 728, 'york': 729, 'imagine': 730, 'rest': 731, 'neighborhood': 732, 'offer': 733, 'stopped': 734, 'end': 735, 'dear': 736, 'election': 737, 'laws': 738, 'parts': 739, 'oven': 740, 'dress': 741, 'figure': 742, 'leave': 743, 'wax': 744, 'fluid': 745, 'non': 746, 'lot': 747, 'history': 748, 'book': 749, 'july': 750, 'planet': 751, 'wipe': 752, 'close': 753, 'swim': 754, 'terrorists': 755, 'road': 756, 'prison': 757, 'type': 758, 'meet': 759, 'king': 760, 'brown': 761, 'sober': 762, 'normal': 763, 'within': 764, 'linda': 765, 'sarsour': 766, 'cortez': 767, 'happened': 768, \"'\": 769, 'radical': 770, 'wheelchair': 771, 'mexico': 772, 'foreign': 773, 'month': 774, 'land': 775, 'chicago': 776, 'porn': 777, 'bull': 778, 'waiting': 779, 'past': 780, 'local': 781, 'whats': 782, 'pretty': 783, 'tells': 784, 'kinda': 785, 'ur': 786, 'question': 787, 'knowledge': 788, 'shame': 789, 'luck': 790, 'add': 791, 'rebuilt': 792, 'hits': 793, 'letting': 794, '19': 795, 'monkey': 796, 'chick': 797, 'bread': 798, 'ape': 799, 'donald': 800, 'smoke': 801, 'national': 802, 'nuts': 803, 'asses': 804, 'walking': 805, \"aren't\": 806, 'might': 807, 'police': 808, 'internet': 809, 'kfc': 810, 'rights': 811, 'pill': 812, 'tits': 813, 'arrest': 814, 'zealand': 815, 'cop': 816, 'door': 817, 'class': 818, 'bring': 819, 'cops': 820, 'office': 821, 'ladies': 822, 'quickly': 823, 'turned': 824, 'yours': 825, 'strong': 826, 'sucking': 827, 'smell': 828, 'angry': 829, 'clear': 830, 'apparently': 831, 'deep': 832, 'africa': 833, '1945': 834, 'story': 835, 'hardest': 836, 'challenge': 837, 'thank': 838, 'coffee': 839, 'favorite': 840, 'cost': 841, 'makeup': 842, 'short': 843, 'piece': 844, 'faggot': 845, 'became': 846, 'calls': 847, 'chicken': 848, 'meme': 849, 'farm': 850, 'buy': 851, 'together': 852, 'side': 853, 'east': 854, 'voters': 855, 'self': 856, 'master': 857, 'sun': 858, 'drop': 859, 'refugees': 860, 'g': 861, 'expected': 862, 'special': 863, 'teeth': 864, 'c': 865, 'five': 866, 'mind': 867, 'stealing': 868, 'thought': 869, 'cant': 870, 'kkk': 871, 'homosexuals': 872, 'lets': 873, 'thinks': 874, 'punch': 875, 'puts': 876, 'bats': 877, 'knock': 878, 'four': 879, 'christmas': 880, 'idiot': 881, 'beat': 882, 'chewbacca': 883, 'almost': 884, 'pushing': 885, 'speech': 886, 'except': 887, \"jenner's\": 888, 'safety': 889, 'notice': 890, 'hero': 891, 'vitiligo': 892, 'friendly': 893, 'reminder': 894, 'overcome': 895, 'represents': 896, 'mine': 897, 'heard': 898, 'defund': 899, 'likes': 900, 'keeping': 901, 'paying': 902, 'masturbate': 903, 'neighbors': 904, 'candle': 905, 'refuse': 906, 'fox': 907, 'dial': 908, 'alive': 909, 'rushed': 910, 'shave': 911, 'term': 912, 'rare': 913, 'celebrate': 914, 'faster': 915, 'prove': 916, 'ring': 917, 'dinner': 918, 'themselves': 919, 'victim': 920, 'mohamed': 921, 'yet': 922, 'army': 923, 'rock': 924, 'countries': 925, 'colors': 926, 'murder': 927, 'murdering': 928, 'means': 929, 'cowboys': 930, 'rode': 931, 'transgender': 932, 'reading': 933, 'thanks': 934, 'ancestors': 935, 'promised': 936, 'extra': 937, 'probably': 938, 'facebook': 939, 'created': 940, 'trudeau': 941, 'such': 942, 'rise': 943, 'lesbian': 944, 'smells': 945, 'buslim': 946, 'brains': 947, 'seeing': 948, 'drugs': 949, 'rules': 950, 'throw': 951, 'film': 952, 'secrets': 953, 'infiltrated': 954, 'hurt': 955, 'starving': 956, 'mentally': 957, 'retarded': 958, 'drug': 959, 'goals': 960, \"bachelor's\": 961, 'laughs': 962, 'stairs': 963, 'noise': 964, 'accident': 965, 'citizen': 966, 'order': 967, 'savage': 968, 'molest': 969, 'night': 970, 'drinking': 971, \"where's\": 972, 'along': 973, 'excited': 974, 'ground': 975, 'fruit': 976, 'vegetable': 977, 'policy': 978, 'burning': 979, 'hijab': 980, 'somebody': 981, 'above': 982, 'average': 983, 'blood': 984, 'diaper': 985, \"hasn't\": 986, 'sense': 987, 'christian': 988, 'step': 989, 'birth': 990, 'chance': 991, 'may': 992, 'least': 993, 'bake': 994, 'takes': 995, 'cringe': 996, 'sending': 997, 'babysit': 998, 'raped': 999, 'murdered': 1000, 'sheep': 1001, 'horny': 1002, 'politics': 1003, 'lies': 1004, 'crackas': 1005, 'male': 1006, 'age': 1007, 'scientific': 1008, 'ten': 1009, 'jerky': 1010, 'account': 1011, 'hoes': 1012, 'jussie': 1013, 'maga': 1014, '40': 1015, 'selling': 1016, 'lit': 1017, 'hebrew': 1018, 'boss': 1019, 'disgusting': 1020, 'guard': 1021, 'finds': 1022, '72': 1023, 'apes': 1024, 'indian': 1025, 'demand': 1026, 'paid': 1027, 'check': 1028, 'honor': 1029, 'kick': 1030, 'properly': 1031, 'decide': 1032, 'modern': 1033, 'solutions': 1034, 'snakes': 1035, 'females': 1036, 'concentration': 1037, 'cracker': 1038, 'automatic': 1039, 'blowjob': 1040, 'poor': 1041, 'feelings': 1042, '21': 1043, 'theft': 1044, 'straight': 1045, 'lunch': 1046, 'test': 1047, 'ariana': 1048, 'video': 1049, 'second': 1050, 'hour': 1051, 'jail': 1052, 'camel': 1053, 'bowl': 1054, 'lock': 1055, 'calling': 1056, 'identify': 1057, 'taking': 1058, 'sink': 1059, 'stoned': 1060, 'tv': 1061, 'actions': 1062, 'citizens': 1063, 'blame': 1064, 'light': 1065, 'district': 1066, 'built': 1067, 'magic': 1068, 'knew': 1069, 'mr': 1070, 'diversity': 1071, 'greatest': 1072, 'duty': 1073, 'briefcase': 1074, 'liquor': 1075, 'moral': 1076, 'definitely': 1077, 'dead': 1078, 'niggers': 1079, 'gym': 1080, 'public': 1081, 'glad': 1082, 'paper': 1083, 'india': 1084, 'baked': 1085, 'dude': 1086, 'walks': 1087, 'bathroom': 1088, 'scared': 1089, '2nd': 1090, 'loud': 1091, 'soul': 1092, 'shooter': 1093, 'armed': 1094, 'sleep': 1095, 'europe': 1096, 'elected': 1097, 'asians': 1098, 'bar': 1099, 'dry': 1100, 'hiroshima': 1101, 'wonder': 1102, 'ultimate': 1103, '8': 1104, 'arent': 1105, 'raise': 1106, 'continue': 1107, 'russian': 1108, 'pizza': 1109, 'speed': 1110, 'sammich': 1111, 'hobby': 1112, 'til': 1113, 'holla': 1114, 'complete': 1115, 'dirt': 1116, 'laugh': 1117, 'sir': 1118, 'japanese': 1119, 'situation': 1120, 'burned': 1121, 'slow': 1122, 'serving': 1123, 'entire': 1124, 'princess': 1125, 'west': 1126, 'seat': 1127, 'owner': 1128, 'trumps': 1129, 'outside': 1130, 'shower': 1131, 'arms': 1132, 'sometimes': 1133, 'motherfucker': 1134, 'guess': 1135, 'peaceful': 1136, 'haters': 1137, 'profile': 1138, 'violence': 1139, 'cold': 1140, 'britain': 1141, 'finger': 1142, 'germany': 1143, 'german': 1144, 'doctor': 1145, 'fly': 1146, 'pictures': 1147, 'population': 1148, 'genders': 1149, 'accidentally': 1150, 'sweet': 1151, 'dreams': 1152, 'flowers': 1153, 'russians': 1154, 'met': 1155, 'sunday': 1156, 'gorilla': 1157, 'low': 1158, \"ma'am\": 1159, 'soon': 1160, 'morgan': 1161, 'freeman': 1162, 'lying': 1163, 'officer': 1164, 'card': 1165, 'holding': 1166, 'milk': 1167, 'boyfriend': 1168, 'taco': 1169, 'shitty': 1170, 'giving': 1171, 'bit': 1172, 'wheel': 1173, 'cook': 1174, 'divide': 1175, 'crisis': 1176, 'terrible': 1177, 'lol': 1178, 'fix': 1179, 'turkey': 1180, 'mixed': 1181, 'station': 1182, 'ah': 1183, 'stuck': 1184, 'border': 1185, 'economy': 1186, 'members': 1187, 'maker': 1188, 'death': 1189, 'mmmm': 1190, 'text': 1191, 'area': 1192, '51': 1193, 'beats': 1194, 'illegals': 1195, 'actual': 1196, 'justice': 1197, 'af': 1198, 'runner': 1199, 'later': 1200, 'bill': 1201, 'friday': 1202, 'super': 1203, 'nazi': 1204, 'community': 1205, 'acting': 1206, 'star': 1207, 'russia': 1208, 'gold': 1209, 'naked': 1210, 'pants': 1211, 'greetings': 1212, 'barely': 1213, 'liking': 1214, 'fuckers': 1215, 'style': 1216, 'hunting': 1217, 'pig': 1218, 'escape': 1219, 'trouble': 1220, 'jump': 1221, 'hump': 1222, 'lmao': 1223, 'hole': 1224, 'picked': 1225, 'whites': 1226, 'gum': 1227, 'bombers': 1228, 'billion': 1229, 'per': 1230, 'ray': 1231, 'meth': 1232, 'blast': 1233, 'com': 1234, 'somewhere': 1235, 'minority': 1236, 'dollars': 1237, 'sold': 1238, 'french': 1239, 'stuff': 1240, 'intelligence': 1241, 'overthink': 1242, 'disease': 1243, 'michael': 1244, 'jackson': 1245, 'direction': 1246, 'barack': 1247, 'hussein': 1248, 'hooker': 1249, 'con': 1250, 'wtf': 1251, 'tries': 1252, 'improvise': 1253, 'adapt': 1254, 'understanding': 1255, '25': 1256, 'ramen': 1257, 'masturbating': 1258, 'wave': 1259, 'stress': 1260, 'weighing': 1261, 'debate': 1262, 'soap': 1263, 'whatever': 1264, '666': 1265, 'shape': 1266, 'gays': 1267, \"kid's\": 1268, 'kenyan': 1269, 'november': 1270, 'force': 1271, 'voter': 1272, 'added': 1273, 'attacks': 1274, 'hahaha': 1275, 'nigger': 1276, 'team': 1277, 'cup': 1278, 'questioning': 1279, \"america's\": 1280, 'fascist': 1281, 'unacceptable': 1282, 'spread': 1283, 'bars': 1284, 'vegetables': 1285, 'mass': 1286, 'dig': 1287, 'stevie': 1288, 'alone': 1289, \"put'n\": 1290, 'ham': 1291, 'playing': 1292, 'grand': 1293, 'chocolate': 1294, 'cookies': 1295, 'j': 1296, 'band': 1297, 'saving': 1298, 'resolution': 1299, 'struck': 1300, 'raised': 1301, 'pissed': 1302, 'silent': 1303, 'poke': 1304, 'holes': 1305, 'aids': 1306, 'binary': 1307, 'sort': 1308, 'cannot': 1309, 'spell': 1310, 'torture': 1311, \"trump's\": 1312, 'mattered': 1313, 'minute': 1314, 'records': 1315, 'research': 1316, 'google': 1317, 'omg': 1318, 'yr': 1319, 'cry': 1320, 'bloody': 1321, 'less': 1322, 'similar': 1323, 'charles': 1324, 'imam': 1325, 'pinko': 1326, 'racists': 1327, 'walrus': 1328, 'nibba': 1329, 'cross': 1330, 'declaration': 1331, 'spending': 1332, 'homeless': 1333, 'congratulations': 1334, 'limit': 1335, 'carrying': 1336, 'ammo': 1337, 'violating': 1338, 'enjoy': 1339, 'motorcycle': 1340, 'n': 1341, 'state': 1342, 'democratic': 1343, 'mcdonalds': 1344, 'twerk': 1345, 'imma': 1346, 'pokemon': 1347, 'basically': 1348, 'fat': 1349, 'threesome': 1350, 'healthy': 1351, 'needed': 1352, 'rate': 1353, 'anyway': 1354, 'ordered': 1355, 'puzzle': 1356, 'common': 1357, 'answers': 1358, 'ocasio': 1359, 'stolen': 1360, 'tried': 1361, 'washed': 1362, 'former': 1363, 'saw': 1364, 'ill': 1365, 'sign': 1366, 'drag': 1367, 'queen': 1368, 'completely': 1369, 'teacher': 1370, 'student': 1371, 'lgbtq': 1372, 'hemorrhoid': 1373, \"ask's\": 1374, 'train': 1375, 'easier': 1376, 'vacation': 1377, 'porch': 1378, 'outta': 1379, \"obama's\": 1380, 'ran': 1381, 'nein': 1382, 'patience': 1383, 'candy': 1384, 'larry': 1385, 'predominantly': 1386, 'virgin': 1387, 'running': 1388, 'proud': 1389, 'beliefs': 1390, \"i's\": 1391, 'mengele': 1392, 'experiments': 1393, 'escaped': 1394, 'cause': 1395, 'woods': 1396, 'airplane': 1397, 'smash': 1398, 'noises': 1399, 'private': 1400, 'email': 1401, 'emails': 1402, 'equal': 1403, 'muscle': 1404, 'sore': 1405, 'smollet': 1406, 'taken': 1407, 'pope': 1408, 'walls': 1409, 'boner': 1410, 'balls': 1411, 'volunteers': 1412, 'acceptance': 1413, 'italian': 1414, 'virgins': 1415, 'companies': 1416, 'ends': 1417, 'strength': 1418, 'daughter': 1419, 'christianity': 1420, 'squirter': 1421, 'mein': 1422, 'miss': 1423, '1963': 1424, 'rent': 1425, 'buses': 1426, 'accept': 1427, 'tecnical': 1428, 'whatsoever': 1429, 'trolls': 1430, 'feds': 1431, 'require': 1432, 'vagina': 1433, 'patriarchy': 1434, 'dying': 1435, 'camps': 1436, 'manual': 1437, 'moderate': 1438, 'ethiopian': 1439, 'swallow': 1440, 'hurts': 1441, 'aint': 1442, 'planned': 1443, 'casey': 1444, 'anthony': 1445, 'purchase': 1446, '36': 1447, 'shoots': 1448, 'exploded': 1449, 'escaping': 1450, 'fake': 1451, 'fit': 1452, 'results': 1453, 'cunt': 1454, 'daddy': 1455, 'plant': 1456, 'finest': 1457, 'grande': 1458, 'angels': 1459, \"aldi's\": 1460, 'worst': 1461, 'cancer': 1462, 'drivers': 1463, 'prostitute': 1464, 'fb': 1465, 'unclean': 1466, 'puffs': 1467, 'cereal': 1468, 'feed': 1469, 'womens': 1470, 'image': 1471, 'biggest': 1472, 'pic': 1473, 'hates': 1474, 'glass': 1475, 'act': 1476, 'mosque': 1477, 'adds': 1478, 'washing': 1479, 'doesnt': 1480, \"'just\": 1481, \"jobs'\": 1482, 'poverty': 1483, 'sounds': 1484, 'kim': 1485, 'took': 1486, 'wilson': 1487, 'crush': 1488, 'dicks': 1489, 'warrant': 1490, 'rice': 1491, 'edition': 1492, 'manager': 1493, 'arrested': 1494, 'hang': 1495, 'sock': 1496, 'busy': 1497, 'tone': 1498, 'da': 1499, 'stay': 1500, 'calculators': 1501, 'remove': 1502, 'beach': 1503, \"grandma's\": 1504, 'couch': 1505, 'plastic': 1506, 'wings': 1507, 'vodka': 1508, 'individual': 1509, 'potatoes': 1510, 'played': 1511, 'air': 1512, 'realized': 1513, 'harambe': 1514, 'trucks': 1515, 'active': 1516, 'tx': 1517, 'targeting': 1518, 'hispanics': 1519, 'expecting': 1520, 'fil': 1521, 'inherited': 1522, 'mess': 1523, 'soldiers': 1524, 'bullet': 1525, 'tight': 1526, 'asf': 1527, 'anime': 1528, 'libtards': 1529, 'cum': 1530, \"she'll\": 1531, 'trynna': 1532, 'titty': 1533, 'lanes': 1534, 'exit': 1535, '300': 1536, 'jerk': 1537, 'chosen': 1538, 'whenever': 1539, 'snack': 1540, 'cheating': 1541, 'worse': 1542, 'driver': 1543, 'tag': 1544, 'forgiven': 1545, 'taste': 1546, 'zakk': 1547, 'darling': 1548, 'dirty': 1549, 'football': 1550, \"waterin'\": 1551, 'concentrate': 1552, 'preserve': 1553, 'number': 1554, 'size': 1555, 'motherfuckers': 1556, 'cocks': 1557, 'fingers': 1558, 'chelsea': 1559, 'counts': 1560, 'racing': 1561, 'sport': 1562, \"we'd\": 1563, 'jenner': 1564, 'whipped': 1565, 'backpack': 1566, 'praying': 1567, 'rid': 1568, 'cured': 1569, 'patient': 1570, 'adding': 1571, 'coolant': 1572, 'equipment': 1573, 'overheats': 1574, 'hotline': 1575, 'ear': 1576, 'lady': 1577, 'garden': 1578, 'appliances': 1579, 'vw': 1580, 'lose': 1581, 'progress': 1582, 'quick': 1583, 'benefits': 1584, 'driving': 1585, 'raw': 1586, 'diana': 1587, 'crashed': 1588, \"fuckin'\": 1589, 'schools': 1590, 'australian': 1591, 'allegiance': 1592, 'un': 1593, '1942': 1594, 'august': 1595, 'fast': 1596, 'yolo': 1597, 'push': 1598, '1000': 1599, 'chill': 1600, 'pop': 1601, 'evolved': 1602, 'disarmed': 1603, 'sighted': 1604, 'bathing': 1605, 'afghanistan': 1606, 'hitting': 1607, 'punching': 1608, 'crack': 1609, 'whore': 1610, 'admit': 1611, 'socialist': 1612, 'notifications': 1613, 'awesome': 1614, 'mississippi': 1615, 'wind': 1616, 'chime': 1617, 'ford': 1618, 'eastern': 1619, 'consume': 1620, 'cars': 1621, 'arguing': 1622, 'pigs': 1623, 'level': 1624, 'deez': 1625, 'males': 1626, '911': 1627, 'squirted': 1628, 'protection': 1629, \"shouldn't\": 1630, 'smart': 1631, 'randomly': 1632, 'deciding': 1633, 'spinner': 1634, 'midget': 1635, 'hire': 1636, 'creates': 1637, 'dishwashers': 1638, 'teachers': 1639, 'given': 1640, 'british': 1641, 'weird': 1642, 'trick': 1643, 'accepted': 1644, 'deported': 1645, 'michigan': 1646, 'collusion': 1647, 'filled': 1648, 'commercial': 1649, 'o': 1650, 'pedophiles': 1651, 'tax': 1652, 'returns': 1653, 'sees': 1654, 'decision': 1655, 'b': 1656, 'd': 1657, 'homie': 1658, 'bus': 1659, 'ultimately': 1660, 'plot': 1661, 'undermine': 1662, 'presidency': 1663, 'shatner': 1664, 'line': 1665, 'kicked': 1666, 'blames': 1667, 'runs': 1668, 'stamp': 1669, 'neighbor': 1670, 'yard': 1671, 'chef': 1672, 'rating': 1673, 'devils': 1674, 'six': 1675, 'pocket': 1676, 'blowing': 1677, 'starting': 1678, 'marrying': 1679, 'cuck': 1680, 'green': 1681, 'decline': 1682, 'handed': 1683, 'lemons': 1684, 'stops': 1685, 'cleaned': 1686, 'press': 1687, 'cities': 1688, 'fits': 1689, 'store': 1690, 'hes': 1691, 'worship': 1692, 'forgot': 1693, 'different': 1694, '5min': 1695, 'clocking': 1696, 'loaf': 1697, '80': 1698, 'iq': 1699, 'highest': 1700, 'hiding': 1701, 'phones': 1702, 'rubber': 1703, 'ls': 1704, 'shoulders': 1705, 'frame': 1706, 'invite': 1707, 'airport': 1708, 'turns': 1709, 'republican': 1710, 'deserve': 1711, 'setting': 1712, 'widespread': 1713, 'buildings': 1714, 'smarter': 1715, 'republicans': 1716, 'assad': 1717, 'hamid': 1718, 'showed': 1719, 'mix': 1720, 'marries': 1721, 'f': 1722, 'transphobic': 1723, \"'em\": 1724, 'poop': 1725, 'personality': 1726, 'tall': 1727, 'talked': 1728, 'smiling': 1729, 'society': 1730, 'collapses': 1731, 'adults': 1732, 'sandy': 1733, 'hook': 1734, 'itself': 1735, 'goatlivesmatter': 1736, 'decent': 1737, 'titties': 1738, 'hmmm': 1739, 'sunblock': 1740, 'harmful': 1741, 'rays': 1742, 'contact': 1743, 'responsible': 1744, 'posing': 1745, 'emergency': 1746, 'rap': 1747, 'dividing': 1748, 'planes': 1749, 'hookers': 1750, 'wayment': 1751, 'corrupt': 1752, 'goons': 1753, 'crash': 1754, 'olds': 1755, 'sad': 1756, 'plane': 1757, 'newly': 1758, 'kidding': 1759, 'worked': 1760, '60': 1761, 'masters': 1762, 'cake': 1763, 'homicide': 1764, 'personal': 1765, 'weekend': 1766, 'capable': 1767, 'hi': 1768, 'grammar': 1769, 'warm': 1770, 'import': 1771, 'wedding': 1772, 'groin': 1773, 'willie': 1774, 'morals': 1775, 'status': 1776, 'losing': 1777, 'argument': 1778, 'survives': 1779, 'adopted': 1780, 'wimpy': 1781, 'butt': 1782, 'forgotten': 1783, 'butter': 1784, 'thoughts': 1785, 'ocasto': 1786, 'sharing': 1787, 'simply': 1788, 'blocked': 1789, 'idk': 1790, 'canadian': 1791, 'veterans': 1792, 'weapons': 1793, 'almighty': 1794, 'boobs': 1795, 'chillin': 1796, 'twenty': 1797, 'martin': 1798, 'luther': 1799, 'period': 1800, 'refuses': 1801, 'farrakhan': 1802, 'united': 1803, 'center': 1804, 'minister': 1805, 'louis': 1806, 'distracted': 1807, 'wheelbarrow': 1808, 'rich': 1809, 'laundry': 1810, 'sick': 1811, 'hatred': 1812, 'dudes': 1813, 'whoever': 1814, 'large': 1815, 'current': 1816, 'demonstration': 1817, 'squirrels': 1818, 'result': 1819, 'read': 1820, 'handle': 1821, 'tiny': 1822, 'voted': 1823, 'presidents': 1824, 'dropped': 1825, 'loyalty': 1826, 'cards': 1827, 'match': 1828, 'pulls': 1829, 'moment': 1830, 'lick': 1831, 'famous': 1832, 'suddenly': 1833, 'decided': 1834, 'upset': 1835, 'scouts': 1836, 'jerry': 1837, 'shooters': 1838, 'owners': 1839, 'flush': 1840, 'soda': 1841, 'minutes': 1842, 'rather': 1843, 'easy': 1844, 'bra': 1845, 'copy': 1846, 'puppy': 1847, 'chewing': 1848, 'winning': 1849, 'portraying': 1850, 'murderous': 1851, 'savages': 1852, 'responds': 1853, 'healthcare': 1854, 'wives': 1855, 'groom': 1856, 'numbers': 1857, 'hai': 1858, 'orgasm': 1859, '15': 1860, 'm': 1861, 'jackass': 1862, 'plantation': 1863, 'involved': 1864, 'kanye': 1865, 'pile': 1866, 'cult': 1867, 'beating': 1868, 'hanging': 1869, 'kg': 1870, 'blessing': 1871, 'harry': 1872, 'tyrone': 1873, 'amazing': 1874, 'brings': 1875, 'pro': 1876, 'oxygen': 1877, 'floor': 1878, 'liberated': 1879, 'colored': 1880, 'hurry': 1881, 'married': 1882, 'college': 1883, \"won't\": 1884, 'snap': 1885, 'weeks': 1886, 'aid': 1887, 'pls': 1888, 'load': 1889, 'chew': 1890, 'fault': 1891, 'illness': 1892, 'supposed': 1893, 'clitoris': 1894, 'impeach': 1895, \"y'all\": 1896, 'often': 1897, 'english': 1898, 'akana': 1899, 'juice': 1900, 'drunk': 1901, 'breed': 1902, 'official': 1903, 'refugee': 1904, 'practice': 1905, 'dawg': 1906, 'late': 1907, 'sucks': 1908, 'rely': 1909, 'er': 1910, 'foil': 1911, 'kept': 1912, 'opening': 1913, 'role': 1914, 'stronger': 1915, 'addict': 1916, 'condition': 1917, 'exist': 1918, 'though': 1919, 'visiting': 1920, 'smaller': 1921, '22': 1922, 'majority': 1923, 'throws': 1924, 'hammer': 1925, 'management': 1926, 'important': 1927, 'excuse': 1928, 'sound': 1929, 'tattoos': 1930, 'street': 1931, 'apples': 1932, 'lift': 1933, 'sexy': 1934, 'wallet': 1935, 'rude': 1936, 'easter': 1937, 'heroin': 1938, 'cinco': 1939, 'de': 1940, 'ported': 1941, '2011': 1942, 'mature': 1943, 'mark': 1944, 'zuckerberg': 1945, 'overthinking': 1946, '2020': 1947, 'protesting': 1948, 'uk': 1949, 'pew': 1950, 'arrived': 1951, 'forced': 1952, 'gary': 1953, 'host': 1954, 'vietnam': 1955, 'suffered': 1956, \"islam's\": 1957, 'trojan': 1958, 'themuslimes': 1959, 'political': 1960, 'winds': 1961, 'shift': 1962, 'choke': 1963, 'heimlich': 1964, 'maneuver': 1965, 'types': 1966, 'fanatical': 1967, 'blackbelt': 1968, 'mcmap': 1969, 'yep': 1970, 'elf': 1971, 'shelf': 1972, 'meditation': 1973, 'chased': 1974, 'hardcore': 1975, 'noodles': 1976, 'boil': 1977, 'block': 1978, 'boiled': 1979, 'flavored': 1980, 'powder': 1981, 'invaders': 1982, 'pisser': 1983, 'irrelevant': 1984, 'swing': 1985, 'dodge': 1986, 'trannys': 1987, 'caring': 1988, 'caravan': 1989, 'define': 1990, 'nowfag': 1991, 'hotdawg': 1992, 'annihilated': 1993, 'brows': 1994, 'mustache': 1995, 'preadtor': 1996, '2000': 1997, 'relax': 1998, 'bigot': 1999, 'classroom': 2000, 'judge': 2001, 'cared': 2002, 'interference': 2003, 'id': 2004, 'cut': 2005, 'changed': 2006, 'ize': 2007, 'steroids': 2008, 'serve': 2009, 'condemn': 2010, 'banner': 2011, 'hulk': 2012, 'sheets': 2013, 'knights': 2014, 'omw': 2015, 'israhellites': 2016, 'wow': 2017, 'cheering': 2018, 'stds': 2019, 'fruits': 2020, 'pushed': 2021, 'balcony': 2022, \"epstein's\": 2023, 'pedo': 2024, 'shootings': 2025, 'bigger': 2026, \"girlfriend's\": 2027, \"parent's\": 2028, 'rapist': 2029, 'carry': 2030, 'coward': 2031, 'enlist': 2032, 'intimidate': 2033, '2030': 2034, 'chip': 2035, 'marty': 2036, 'mcfly': 2037, 'goin': 2038, 'traitors': 2039, 'amazingly': 2040, 'realistic': 2041, 'hellen': 2042, 'keller': 2043, 'boston': 2044, 'terrier': 2045, 'phiz': 2046, 'mannequins': 2047, 'cutting': 2048, 'condoms': 2049, 'bed': 2050, 'daily': 2051, 'diet': 2052, 'peope': 2053, 'demonic': 2054, 'entities': 2055, 'rationalize': 2056, 'emotion': 2057, 'native': 2058, 'bicycles': 2059, 'deere': 2060, 'recieve': 2061, 'crops': 2062, 'yoga': 2063, 'becoming': 2064, 'popular': 2065, \"'pow'\": 2066, '120': 2067, 'crewmen': 2068, 'unseal': 2069, 'mccain': 2070, 'fraud': 2071, 'uss': 2072, 'forrestal': 2073, '29': 2074, '1967': 2075, 'tube': 2076, 'ships': 2077, 'israelite': 2078, 'firm': 2079, 'believer': 2080, 'seperation': 2081, 'backlivesmatter': 2082, 'double': 2083, 'teddy': 2084, 'israeli': 2085, \"couldn't\": 2086, 'prepared': 2087, 'disloyal': 2088, 'sh': 2089, 'loyal': 2090, 'mos': 2091, 'texting': 2092, 'fortunate': 2093, 'pics': 2094, 'chromosome': 2095, 'steve': 2096, 'javeon': 2097, 'doingbigthings': 2098, 'predatory': 2099, 'behaviour': 2100, 'james': 2101, 'bye': 2102, 'clothes': 2103, 'jokers': 2104, 'commie': 2105, 'nowadays': 2106, 'progressives': 2107, 'socialists': 2108, 'pilgrim': 2109, 'commies': 2110, 'shine': 2111, 'messiah': 2112, 'moustache': 2113, 'whack': 2114, 'pea': 2115, 'paul': 2116, 'walker': 2117, 'seatbelt': 2118, 'ifunny': 2119, 'co': 2120, 'warms': 2121, 'fathers': 2122, 'woth': 2123, 'theres': 2124, 'register': 2125, 'restrict': 2126, 'transfers': 2127, 'certain': 2128, 'magazine': 2129, 'capacity': 2130, 'prohibit': 2131, 'arbitrary': 2132, 'rides': 2133, 'feature': 2134, 'lifetime': 2135, 'presents': 2136, 'surviving': 2137, 'liz': 2138, 'krueger': 2139, 'y': 2140, 'senater': 2141, 'infiltrate': 2142, 'nra': 2143, 'wiggle': 2144, 'anybody': 2145, 'dorothy': 2146, 'donegan': 2147, 'pianist': 2148, 'redneck': 2149, 'beers': 2150, 'fleshlight': 2151, 'peanuts': 2152, 'arthur': 2153, 'round': 2154, 'table': 2155, 'ekse': 2156, 'sugar': 2157, 'immigrant': 2158, 'fixed': 2159, 'weighed': 2160, '45': 2161, 'communism': 2162, '26': 2163, 'present': 2164, 'homosexuality': 2165, 'degeneracy': 2166, 'promiscuity': 2167, 'natural': 2168, 'underwater': 2169, 'degrees': 2170, 'degree': 2171, 'apology': 2172, '52': 2173, 'bubbles': 2174, 'energy': 2175, 'drinks': 2176, 'mana': 2177, 'potions': 2178, 'chinese': 2179, 'core': 2180, 'purposely': 2181, 'designed': 2182, 'confusing': 2183, 'frustrating': 2184, 'uneducated': 2185, \"who've\": 2186, 'programmed': 2187, 'depend': 2188, 'conformist': 2189, 'debt': 2190, 'directing': 2191, 'traffic': 2192, 'scene': 2193, 'shark': 2194, 'converted': 2195, 'niether': 2196, 'laughing': 2197, 'broom': 2198, 'chili': 2199, 'european': 2200, 'behead': 2201, '30s': 2202, 'kaepernick': 2203, 'justnorthkoreathings': 2204, 'snowflake': 2205, 'easily': 2206, 'glue': 2207, 'survival': 2208, 'enjoying': 2209, 'joking': 2210, 'superhero': 2211, 'seizure': 2212, 'spasm': 2213, 'answering': 2214, 'streat': 2215, 'pelosi': 2216, 'slams': 2217, 'cave': 2218, 'threats': 2219, 'temper': 2220, 'tantrums': 2221, 'negotiate': 2222, 'immigration': 2223, 'learned': 2224, 'bob': 2225, 'trey': 2226, 'gowdy': 2227, 'wendy': 2228, 'williams': 2229, 'transvestigation': 2230, 'isaak': 2231, 'grandmaster': 2232, 'spectre': 2233, 'flatties': 2234, 'tuesday': 2235, 'stands': 2236, 'doorway': 2237, 'justified': 2238, 'exchange': 2239, 'shots': 2240, 'microscopic': 2241, 'view': 2242, 'pessimist': 2243, 'optometrist': 2244, 'snow': 2245, 'charlie': 2246, 'sheen': 2247, 'tigers': 2248, 'kicks': 2249, 'ridden': 2250, 'peoples': 2251, 'elizabeth': 2252, \"warren's\": 2253, 'teepee': 2254, 'slut': 2255, 'poland': 2256, 'offensive': 2257, 'winner': 2258, 'dares': 2259, 'win': 2260, 'returned': 2261, \"they've\": 2262, 'pouring': 2263, 'foundation': 2264, 'library': 2265, 'jelly': 2266, 'beans': 2267, 'lego': 2268, 'correct': 2269, 'tents': 2270, 'jaws': 2271, 'shawty': 2272, 'bday': 2273, 'frankly': 2274, 'bae': 2275, 'success': 2276, 'showing': 2277, 'euthanized': 2278, 'beards': 2279, 'beacuse': 2280, 'growing': 2281, 'beard': 2282, 'trusting': 2283, 'mfw': 2284, 'lynched': 2285, 'known': 2286, 'sour': 2287, 'pillaged': 2288, 'baptise': 2289, 'exercise': 2290, 'ed': 2291, 'moore': 2292, 'suspect': 2293, 'clothing': 2294, 'mountain': 2295, 'panda': 2296, 'assume': 2297, 'concept': 2298, 'oil': 2299, 'wide': 2300, 'technique': 2301, \"baby's\": 2302, 'explosion': 2303, 'prior': 2304, 'server': 2305, \"hillary's\": 2306, 'cocaine': 2307, 'vibrator': 2308, 'massager': 2309, 'rubbed': 2310, 'muscles': 2311, 'gunpoint': 2312, 'vatican': 2313, 'causes': 2314, 'loss': 2315, 'melanin': 2316, 'thumbs': 2317, 'individuality': 2318, 'rescued': 2319, 'medditaranian': 2320, 'coast': 2321, 'hinders': 2322, 'motivation': 2323, 'neverforget': 2324, 'disgust': 2325, 'chow': 2326, 'pakistanis': 2327, 'pages': 2328, 'ripot': 2329, 'tolerant': 2330, 'bank': 2331, 'bills': 2332, 'hating': 2333, 'surround': 2334, 'circumcise': 2335, 'jaw': 2336, 'troii': 2337, 'falls': 2338, 'asleep': 2339, 'flame': 2340, 'oppressed': 2341, 'comfortable': 2342, 'homes': 2343, 'solution': 2344, 'underprivileged': 2345, 'automatically': 2346, 'shes': 2347, \"muslim's\": 2348, 'whoopty': 2349, 'doo': 2350, 'arabia': 2351, 'meathead': 2352, 'weed': 2353, 'divorced': 2354, 'cousins': 2355, 'goal': 2356, '2018': 2357, 'accomplish': 2358, '2014': 2359, '2013': 2360, 'voting': 2361, 'guilty': 2362, 'survey': 2363, 'lidentify': 2364, 'culebra': 2365, 'territory': 2366, 'miltary': 2367, 'explosions': 2368, 'irony': 2369, 'meter': 2370, 'fishing': 2371, 'summer': 2372, 'tough': 2373, 'keyboard': 2374, 'badass': 2375, 'perpetuation': 2376, 'systematig': 2377, 'oppression': 2378, 'dna': 2379, 'furry': 2380, 'convention': 2381, 'bravery': 2382, 'reside': 2383, 'battlefield': 2384, 'anthem': 2385, 'whiteprivilege': 2386, 'perferred': 2387, 'pronouns': 2388, 'brand': 2389, 'constatntly': 2390, 'referring': 2391, \"people's\": 2392, 'relocate': 2393, 'exterminate': 2394, 'destruction': 2395, 'sweatin': 2396, 'north': 2397, 'pavement': 2398, 'jokes': 2399, 'fuckyeah': 2400, 'halfday': 2401, 'smokers': 2402, 'archeologist': 2403, 'digging': 2404, 'choco': 2405, 'enter': 2406, 'restroom': 2407, 'mistake': 2408, 'shouted': 2409, 'shouting': 2410, 'hypocrite': 2411, 'tribe': 2412, 'flour': 2413, 'oustide': 2414, 'threat': 2415, 'persons': 2416, \"dosen't\": 2417, 'firework': 2418, 'screamed': 2419, 'nbc': 2420, 'using': 2421, 'locate': 2422, 'dream': 2423, 'body': 2424, 'plate': 2425, 'dishes': 2426, 'moments': 2427, '3rd': 2428, 'yesterday': 2429, 'lonely': 2430, 'ankle': 2431, 'compilaion': 2432, 'moroccan': 2433, 'gentleman': 2434, 'guembry': 2435, 'r250m': 2436, 'ordinary': 2437, 'apartheid': 2438, 'amsterdam': 2439, 'isalamabad': 2440, 'burell': 2441, 'everytime': 2442, 'grabs': 2443, 'mic': 2444, 'chromosomes': 2445, 'carpet': 2446, 'ride': 2447, 'wahabi': 2448, 'brothers': 2449, 'lampshades': 2450, 'krispies': 2451, 'branch': 2452, 'l': 2453, 'remain': 2454, 'doorknob': 2455, 'roommate': 2456, 'ay': 2457, \"how'd\": 2458, 'wood': 2459, 'troop': 2460, 'respects': 2461, 'alpha': 2462, 'repercussions': 2463, 'complain': 2464, 'airheaded': 2465, 'grinds': 2466, 'gears': 2467, 'forever': 2468, 'wookie': 2469, 'stare': 2470, 'vibe': 2471, 'recognise': 2472, 'attacking': 2473, 'whole': 2474, 'covered': 2475, '4x4': 2476, 'brave': 2477, 'checked': 2478, 'mma': 2479, 'fighter': 2480, 'checkmate': 2481, 'importance': 2482, 'borders': 2483, 'squatted': 2484, 'buttfucked': 2485, 'advancement': 2486, 'suppose': 2487, 'jamaican': 2488, 'bonfire': 2489, 'auditioned': 2490, 'jazz': 2491, 'buried': 2492, 'brithday': 2493, 'chic': 2494, 'sundays': 2495, 'wet': 2496, 'streak': 2497, 'worldwide': 2498, 'south': 2499, 'template': 2500, 'australia': 2501, 'fortune': 2502, 'offends': 2503, 'eternal': 2504, 'creeps': 2505, 'childs': 2506, 'empties': 2507, 'sack': 2508, 'distance': 2509, 'comedy': 2510, 'fuhrer': 2511, 'dodged': 2512, 'hentai': 2513, 'chatting': 2514, 'changes': 2515, 'petition': 2516, 'jacinda': 2517, 'ardern': 2518, 'nobel': 2519, 'prize': 2520, 'reaches': 2521, 'pout': 2522, 'beter': 2523, 'scream': 2524, 'solder': 2525, 'dressed': 2526, 'pulling': 2527, 'detroit': 2528, 'decades': 2529, 'gover': 2530, 'policies': 2531, 'skeletons': 2532, 'closet': 2533, 'jeffrey': 2534, 'dahmer': 2535, 'aisha': 2536, 'donkey': 2537, 'ful': 2538, 'compliment': 2539, 'weighs': 2540, 'graam': 2541, 'solvers': 2542, 'religious': 2543, 'bigots': 2544, 'information': 2545, 'decides': 2546, 'pitbulls': 2547, 'blew': 2548, 'ignorance': 2549, 'bliss': 2550, 'happiest': 2551, 'grandparents': 2552, 'repeat': 2553, '49er': 2554, 'nfl': 2555, 'glen': 2556, 'unlike': 2557, 'notification': 2558, 'animal': 2559, 'carrot': 2560, 'obvious': 2561, 'robert': 2562, 'fashioned': 2563, 'ripped': 2564, 'matress': 2565, '1987': 2566, '350': 2567, 'churches': 2568, '200': 2569, 'sleeping': 2570, 'sins': 2571, 'wylde': 2572, 'calm': 2573, 'massage': 2574, 'aaaand': 2575, 'boyfriends': 2576, 'slept': 2577, 'gallon': 2578, 'arizona': 2579, 'iced': 2580, 'tea': 2581, 'symbol': 2582, 'stupidity': 2583, 'chase': 2584, 'song': 2585, 'blasting': 2586, 'breaktime': 2587, 'walmarts': 2588, '4am': 2589, 'season': 2590, 'stfu': 2591, \"valentine's\": 2592, 'yup': 2593, 'regimen': 2594, 'sheeple': 2595, 'uniqueness': 2596, 'apologies': 2597, 'dialed': 2598, 'mission': 2599, 'ahead': 2600, 'cums': 2601, 'marry': 2602, 'coke': 2603, 'rolled': 2604, 'bitcoin': 2605, 'winter': 2606, 'weather': 2607, 'lotion': 2608, 'banks': 2609, 'fees': 2610, 'mohammad': 2611, 'wishing': 2612, 'temple': 2613, 'claim': 2614, 'freemasons': 2615, 'pressuring': 2616, 'backstreets': 2617, 'declare': 2618, 'sucker': 2619, 'fired': 2620, 'sticking': 2621, 'wondering': 2622, \"don'\": 2623, 'wag': 2624, 'tail': 2625, 'considered': 2626, 'catlyn': 2627, 'watching': 2628, 'realised': 2629, 'rubbery': 2630, 'goodyear': 2631, 'recipe': 2632, 'gather': 2633, 'eid': 2634, 'al': 2635, 'fitr': 2636, 'houses': 2637, 'stone': 2638, 'iz': 2639, 'suckas': 2640, 'pimpin': 2641, 'shutters': 2642, 'transgenderism': 2643, 'subject': 2644, 'psychological': 2645, 'horror': 2646, 'films': 2647, 'psychos': 2648, 'announce': 2649, 'case': 2650, 'hiv': 2651, 'nasa': 2652, 'pin': 2653, 'gnomesaying': 2654, 'herding': 2655, 'addresses': 2656, 'mot': 2657, 'dave': 2658, 'emissions': 2659, 'girlfriends': 2660, 'invest': 2661, 'hasmat': 2662, 'nemo': 2663, 'owned': 2664, 'blaming': 2665, 'polished': 2666, 'aluminum': 2667, 'f150': 2668, 'turd': 2669, 'reported': 2670, 'unemployed': 2671, 'swallowing': 2672, 'insufficient': 2673, 'funds': 2674, 'section': 2675, '44': 2676, 'constitution': 2677, 'entitled': 2678, 're': 2679, 'clue': 2680, 'hide': 2681, 'seek': 2682, 'champion': 2683, '1944': 2684, 'chips': 2685, 'salsa': 2686, 'cartoon': 2687, 'soldier': 2688, 'wwii': 2689, 'consider': 2690, 'issa': 2691, 'wrap': 2692, 'afraid': 2693, 'codes': 2694, 'tires': 2695, \"child's\": 2696, 'priceless': 2697, 'disney': 2698, 'lurking': 2699, 'disagree': 2700, 'preferably': 2701, 'violently': 2702, 'strangers': 2703, 'conversations': 2704, 'rebuild': 2705, 'boatloads': 2706, 'fleeing': 2707, \"scandinavia's\": 2708, 'tyranny': 2709, 'oi': 2710, 'followers': 2711, 'regularly': 2712, 'rule': 2713, 'deaf': 2714, 'nyou': 2715, 'nu': 2716, 'nalk': 2717, 'amout': 2718, 'nef': 2719, 'glub': 2720, 'portrait': 2721, 'psychopath': 2722, 'dare': 2723, 'batchelor': 2724, \"stripper's\": 2725, 'string': 2726, 'wider': 2727, 'larger': 2728, 'semitic': 2729, 'demonrat': 2730, 'sewage': 2731, 'volkswagen': 2732, 'produce': 2733, 'gaz': 2734, 'ach': 2735, 'knowing': 2736, \"arby's\": 2737, \"open's\": 2738, 'inbox': 2739, 'opens': 2740, 'gf': 2741, 'oink': 2742, 'louder': 2743, 'others': 2744, 'event': 2745, 'reportin': 2746, 'pix': 2747, 'nutz': 2748, 'troll': 2749, 'spooks': 2750, 'hazzard': 2751, 'swore': 2752, 'beef': 2753, 'salad': 2754, 'destructive': 2755, 'alcohol': 2756, 'uh': 2757, 'aging': 2758, 'wisdom': 2759, 'removed': 2760, 'fidget': 2761, 'autocorrects': 2762, 'england': 2763, 'humans': 2764, 'pssst': 2765, 'globalists': 2766, 'international': 2767, 'jewry': 2768, 'meant': 2769, 'eatin': 2770, 'crew': 2771, 'burqa': 2772, 'conversion': 2773, 'therapists': 2774, 'nevr': 2775, 'checkin': 2776, 'ice': 2777, 'medicine': 2778, 'ave': 2779, 'nothings': 2780, 'impossible': 2781, 'retribution': 2782, 'pure': 2783, 'dump': 2784, 'scarecrow': 2785, 'legal': 2786, 'policeman': 2787, 'certificate': 2788, 'claiming': 2789, 'teapot': 2790, 'diabetic': 2791, 'pan': 2792, 'ducle': 2793, 'touch': 2794, 'homies': 2795, 'passing': 2796, 'foo': 2797, 'yellow': 2798, 'grenade': 2799, 'william': 2800, 'discontinued': 2801, 'lingerie': 2802, 'sources': 2803, 'barbecuing': 2804, 'charcol': 2805, 'esther': 2806, 'sum': 2807, 'blamed': 2808, 'amid': 2809, 'achievement': 2810, 'burnt': 2811, 'popcorn': 2812, 'nonsense': 2813, 'thier': 2814, 'pug': 2815, 'therapy': 2816, 'trained': 2817, 'console': 2818, 'victims': 2819, 'fork': 2820, 'tongued': 2821, 'fed': 2822, 'thousand': 2823, 'toast': 2824, 'loaves': 2825, 'jean': 2826, 'claude': 2827, 'van': 2828, 'gamestop': 2829, 'near': 2830, 'n64': 2831, 'cartridge': 2832, 'siri': 2833, 'route': 2834, 'neve': 2835, 'residents': 2836, 'rl': 2837, 'literally': 2838, 'influence': 2839, 'encouraging': 2840, 'immigants': 2841, 'kitten': 2842, 'write': 2843, 'grilling': 2844, 'grave': 2845, 'site': 2846, 'deemed': 2847, 'jordans': 2848, 'newport': 2849, 'tho': 2850, 'confirmed': 2851, 'sightings': 2852, '28': 2853, 'nosler': 2854, 'contacts': 2855, 'naturally': 2856, 'value': 2857, 'debit': 2858, 'clinic': 2859, 'lemon': 2860, 'closest': 2861, 'oreos': 2862, 'bubbling': 2863, 'space': 2864, 'anywhere': 2865, 'horses': 2866, 'lust': 2867, 'release': 2868, 'dr': 2869, 'zakir': 2870, 'naik': 2871, 'dike': 2872, 'relationship': 2873, 'supreme': 2874, 'leader': 2875, 'ehd': 2876, 'apologize': 2877, 'tour': 2878, 'received': 2879, 'wiping': 2880, 'uncertain': 2881, 'loading': 2882, 'solid': 2883, 'sexism': 2884, 'testosterone': 2885, 'injections': 2886, 'gnigger': 2887, 'robbed': 2888, 'bee': 2889, 'sting': 2890, 'attracted': 2891, 'rellly': 2892, 'goverment': 2893, 'sanctuary': 2894, 'shoe': 2895, 'lace': 2896, 'nhere': 2897, 'box360': 2898, 'pose': 2899, 'tolerate': 2900, 'agrees': 2901, 'corner': 2902, '140': 2903, 'lbs': 2904, 'whiteman': 2905, 'devil': 2906, 'pour': 2907, 'coco': 2908, 'moisture': 2909, 'gone': 2910, 'welcomes': 2911, 'heav': 2912, 'decieved': 2913, 'inherit': 2914, 'kingdom': 2915, 'multiple': 2916, 'prayer': 2917, 'rug': 2918, 'villagers': 2919, 'invent': 2920, 'fax': 2921, 'vaginas': 2922, 'whorefax': 2923, 'jan': 2924, 'schakowsky': 2925, 'defends': 2926, \"'she\": 2927, \"culture'\": 2928, 'thread': 2929, 'morning': 2930, 'gamers': 2931, 'trannies': 2932, 'stove': 2933, 'village': 2934, 'deleted': 2935, 'bleach': 2936, 'drives': 2937, 'destroyed': 2938, 'hammers': 2939, 'uncensored': 2940, 'wwiii': 2941, 'maggot': 2942, 'ringtone': 2943, 'amen': 2944, 'silence': 2945, 'service': 2946, 'whistle': 2947, 'favour': 2948, 'swedish': 2949, \"9's\": 2950, 'stock': 2951, 'bottom': 2952, 'swapped': 2953, 'heeeeaad': 2954, 'isnt': 2955, 'nor': 2956, 'system': 2957, 'propaganda': 2958, 'features': 2959, \"'she'\": 2960, 'curiosity': 2961, 'ancient': 2962, 'bracelet': 2963, 'becomes': 2964, 'shlomo': 2965, 'ben': 2966, 'yisrael': 2967, 'underrated': 2968, 'carlos': 2969, 'stereo': 2970, 'lookout': 2971, 'standing': 2972, 'obstruct': 2973, 'proposed': 2974, 'financial': 2975, 'caused': 2976, 'divided': 2977, 'helmet': 2978, 'homophobia': 2979, 'phobia': 2980, 'flights': 2981, 'offered': 2982, 'directly': 2983, 'squidward': 2984, 'friendship': 2985, 'link': 2986, 'traumatised': 2987, 'cuddle': 2988, 'buddy': 2989, 'lots': 2990, 'pets': 2991, 'treats': 2992, 'disagreement': 2993, 'among': 2994, 'scholars': 2995, 'whether': 2996, 'thrown': 2997, 'overpaid': 2998, 'underpaid': 2999, 'rappers': 3000, \"there'd\": 3001, 'yeayah': 3002, 'several': 3003, 'shawarma': 3004, 'dish': 3005, 'matte': 3006, 'gloss': 3007, 'sweep': 3008, 'dispatch': 3009, 'code': 3010, 'thyme': 3011, 'paradoxes': 3012, 'chex': 3013, 'resign': 3014, 'carving': 3015, 'prefers': 3016, \"'dark\": 3017, 'meat': 3018, 'glance': 3019, 'bastard': 3020, 'chilren': 3021, 'scratches': 3022, 'dot': 3023, \"wife's\": 3024, 'forehead': 3025, 'won': 3026, 'motel': 3027, 'subway': 3028, 'appear': 3029, 'dope': 3030, 'onna': 3031, 'earn': 3032, 'truly': 3033, 'based': 3034, 'included': 3035, 'mustangs': 3036, 'tool': 3037, 'holders': 3038, 'dryer': 3039, 'engines': 3040, 'colour': 3041, 'naggers': 3042, 'nevermind': 3043, 'erect': 3044, 'memorial': 3045, 'alien': 3046, '500': 3047, 'miles': 3048, 'southern': 3049, 'agreed': 3050, 'retired': 3051, 'drill': 3052, 'sargent': 3053, 'ginger': 3054, 'environmentalist': 3055, 'suggested': 3056, 'random': 3057, 'tests': 3058, 'performed': 3059, 'idubbbz': 3060, 'stamps': 3061, 'income': 3062, 'taxes': 3063, 'nails': 3064, 'abused': 3065, 'agenda': 3066, 'handful': 3067, 'set': 3068, 'forward': 3069, 'eachother': 3070, 'tragically': 3071, 'jumping': 3072, 'normally': 3073, 'deserves': 3074, 'reckon': 3075, 'sympathizer': 3076, 'somehow': 3077, 'seal': 3078, 'useful': 3079, 'gluten': 3080, 'guessing': 3081, 'lmco': 3082, 'cleavage': 3083, 'tonight': 3084, 'faith': 3085, 'willpower': 3086, 'obsticales': 3087, 'treat': 3088, 'mouths': 3089, 'raid': 3090, 'everyrody': 3091, 'gpa': 3092, 'shitting': 3093, 'paparazzi': 3094, 'misandry': 3095, 'nowhere': 3096, 'totally': 3097, 'ignored': 3098, 'meeting': 3099, 'embarassing': 3100, 'wizards': 3101, 'studying': 3102, 'example': 3103, 'deplorable': 3104, 'deportable': 3105, 'burkas': 3106, 'navy': 3107, 'laid': 3108, '1775': 3109, 'sicced': 3110, 'seeking': 3111, 'patriots': 3112, \"1840's\": 3113, 'pinata': 3114, 'fwd': 3115, 'ppl': 3116, 'obviously': 3117, 'terror': 3118, 'gorgeous': 3119, '13': 3120, 'interracial': 3121, 'somting': 3122, 'till': 3123, 'chain': 3124, 'tightens': 3125, 'rhino': 3126, 'juan': 3127, 'jfk': 3128, 'jr': 3129, 'declared': 3130, 'ny': 3131, 'senate': 3132, '1999': 3133, 'senator': 3134, 'holy': 3135, \"rollin'\": 3136, \"hatin'\": 3137, 'traditional': 3138, \"'palestinian\": 3139, \"garb'\": 3140, 'invented': 3141, 'medium': 3142, 'theatrical': 3143, 'affirming': 3144, 'expressions': 3145, 'superiority': 3146, 'maury': 3147, '8th': 3148, 'bachelors': 3149, 'ovens': 3150, 'fifty': 3151, 'shades': 3152, 'bought': 3153, 'cooker': 3154, 'africans': 3155, \"cat's\": 3156, 'cashier': 3157, 'seemed': 3158, 'appreciate': 3159, 'bagged': 3160, 'groceries': 3161, 'unpacked': 3162, 'member': 3163, 'salute': 3164, 'meowschwitz': 3165, 'semen': 3166, 'contains': 3167, 'vampires': 3168, 'twilight': 3169, 'zones': 3170, 'sniffer': 3171, \"'unclean'\": 3172, 'investigating': 3173, 'em': 3174, 'eix': 3175, 'bafe2': 3176, 'responsibility': 3177, 'interupting': 3178, 'niles': 3179, 'eloped': 3180, 'chopping': 3181, 'ace': 3182, 'discourse': 3183, 'ngl': 3184, 'empire': 3185, 'smollett': 3186, 'wasted': 3187, 'nate': 3188, 'recovery': 3189, 'remebered': 3190, 'keys': 3191, \"y'alls\": 3192, 'quiet': 3193, 'massa': 3194, 'iran': 3195, 'indians': 3196, 'largemouth': 3197, 'bass': 3198, 'largemouthed': 3199, 'leeroy': 3200, 'cames': 3201, 'sentence': 3202, 'parole': 3203, 'steak': 3204, 'television': 3205, 'hours': 3206, 'owes': 3207, 'troops': 3208, 'freezing': 3209, 'grandfather': 3210, 'nazis': 3211, 'capital': 3212, 'punishment': 3213, 'nope': 3214, 'polishing': 3215, 'shoes': 3216, 'clock': 3217, \"havin'\": 3218, 'ditch': 3219, 'bare': 3220, 'ankles': 3221, 'strategies': 3222, 'arnold': 3223, 'schwarzenigger': 3224, 'triples': 3225, 'picking': 3226, 'lecture': 3227, 'biology': 3228, 'moses': 3229, 'commandments': 3230, 'marital': 3231, 'relationsheep': 3232, 'powerful': 3233, 'minyoda': 3234, 'slipped': 3235, 'bathtub': 3236, 'ewoks': 3237, 'ghostbusters': 3238, 'assassinated': 3239, 'fans': 3240, 'ebola': 3241, 'angelina': 3242, 'jolie': 3243, 'nukes': 3244, 'aimed': 3245, \"j'ws\": 3246, 'pretending': 3247, 'map': 3248, 'curfew': 3249, 'diary': 3250, 'niqab': 3251, 'legally': 3252, 'bust': 3253, 'nut': 3254, \"why's\": 3255, 'reconstruction': 3256, 'shirt': 3257, 'ohhh': 3258, 'peanut': 3259, 'prayers': 3260, 'bobs': 3261, 'vagine': 3262, 'lied': 3263, 'hiliary': 3264, 'handcuffs': 3265, 'requires': 3266, 'haggle': 3267, 'overprice': 3268, 'constantly': 3269, 'unnoticed': 3270, 'chemo': 3271, 'pussy': 3272, 'quit': 3273, 'messing': 3274, 'brotha': 3275, 'declined': 3276, 'thankfully': 3277, 'youtube': 3278, 'videos': 3279, 'dunked': 3280, 'felling': 3281, 'allowing': 3282, 'accommodate': 3283, 'bribing': 3284, 'votes': 3285, \"trudeau's\": 3286, 'skill': 3287, 'foreigners': 3288, 'openly': 3289, 'disrespecting': 3290, 'canadians': 3291, 'values': 3292, 'traditions': 3293, 'seniors': 3294, 'sharia': 3295, 'clamp': 3296, '3000': 3297, 'arch': 3298, 'tolerance': 3299, 'hugging': 3300, 'social': 3301, 'cast': 3302, 'remembers': 3303, 'watermelon': 3304, 'lake': 3305, 'invalid': 3306, 'opportunity': 3307, \"he'll\": 3308, 'baboons': 3309, 'races': 3310, 'nine': 3311, 'morons': 3312, 'wine': 3313, 'harvesting': 3314, 'doggy': 3315, 'puppies': 3316, 'legged': 3317, 'leftovers': 3318, 'whlle': 3319, 'keepers': 3320, 'harold': 3321, 'oldest': 3322, 'pusher': 3323, 'freed': 3324, 'responded': 3325, 'muscular': 3326, 'arab': 3327, 'protein': 3328, 'sheikh': 3329, 'attractive': 3330, 'kinky': 3331, 'potential': 3332, 'stars': 3333, 'sewn': 3334, 'shirts': 3335, 'appropriate': 3336, 'yooouu': 3337, 'lookah': 3338, 'rehab': 3339, 'romance': 3340, 'booty': 3341, 'moister': 3342, 'oyster': 3343, 'nurtured': 3344, 'blows': 3345, 'gaskets': 3346, 'heist': 3347, 'watched': 3348, 'families': 3349, \"90's\": 3350, 'photoshopped': 3351, 'huge': 3352, 'mac': 3353, 'onions': 3354, 'rectal': 3355, 'wart': 3356, 'serb': 3357, 'reaction': 3358, 'invasion': 3359, 'gunna': 3360, 'huckleberry': 3361, 'rigged': 3362, 'elections': 3363, 'tapped': 3364, 'faucet': 3365, 'beauty': 3366, 'fingered': 3367, 'potato': 3368, 'heat': 3369, 'stroke': 3370, 'frostbite': 3371, 'kentucky': 3372, 'preferred': 3373, 'refer': 3374, 'babyself': 3375, 'toddlerself': 3376, 'pronoun': 3377, 'preference': 3378, 'otherwise': 3379, 'ableist': 3380, 'stupidest': 3381, 'quad': 3382, 'radio': 3383, 'davis': 3384, \"doesn'\": 3385, 'jamal': 3386, 'rally': 3387, 'toll': 3388, 'rain': 3389, \"snake's\": 3390, '70': 3391, 'points': 3392, \"tryin'\": 3393, 'pleased': 3394, '2015': 3395, 'association': 3396, 'nibber': 3397, 'bombbbssss': 3398, 'awayyyyyy': 3399, 'histoy': 3400, 'ps4': 3401, \"playstation'\": 3402, 'vr': 3403, 'required': 3404, 'simulator': 3405, 'whose': 3406, 'charges': 3407, 'skipped': 3408, 'earned': 3409, 'waste': 3410, 'inmate': 3411, 'towel': 3412, 'skip': 3413, 'seriously': 3414, 'pathetic': 3415, 'weaklings': 3416, 'needle': 3417, 'eternity': 3418, 'necessarily': 3419, 'physical': 3420, 'gynecologist': 3421, 'content': 3422, 'ii': 3423, 'commits': 3424, 'crimes': 3425, 'theirs': 3426, '1948': 3427, 'ffriends': 3428, 'bruh': 3429, 'ann': 3430, 'thicc': 3431, 'scenes': 3432, 'stranger': 3433, 'helps': 3434, 'mechanic': 3435, 'behalf': 3436, 'nsw': 3437, 'k': 3438, 'queensland': 3439, 'urinal': 3440, 'piscuit': 3441, 'defines': 3442, 'honest': 3443, 'bedtime': 3444, \"nadler's\": 3445, 'tinder': 3446, 'thot': 3447, 'gangbanged': 3448, 'gala': 3449, 'celebration': 3450, 'hmm': 3451, 'tdi': 3452, 'transphobes': 3453, 'cardio': 3454, 'pronouncing': 3455, 'allen': 3456, 'grape': 3457, 'abdul': 3458, 'newest': 3459, 'retardant': 3460, 'sand': 3461, 'suicidal': 3462, 'bell': 3463, '85': 3464, 'frog': 3465, 'separate': 3466, 'employee': 3467, 'teenagers': 3468, 'paste': 3469, 'suggest': 3470, 'talented': 3471, 'righteous': 3472, 'inahales': 3473, 'deeply': 3474, 'harvest': 3475, 'romania': 3476, 'hunger': 3477, 'lash': 3478, 'necks': 3479, '1600s': 3480, 'mugshot': 3481, 'online': 3482, \"you'd\": 3483, 'eyebrows': 3484, 'housing': 3485, 'electricity': 3486, 'graditude': 3487, 'generosity': 3488, '12': 3489, 'daughters': 3490, 'trains': 3491, 'preach': 3492, 'dawah': 3493, 'stall': 3494, 'city': 3495, 'town': 3496, 'centres': 3497, 'purpose': 3498, 'turning': 3499, 'generous': 3500, 'shithole': 3501, 'originally': 3502, 'refuge': 3503, 'allahu': 3504, 'akbar': 3505, 'kills': 3506, 'arv': 3507, 'main': 3508, 'stream': 3509, 'firefighter': 3510, 'saves': 3511, 'everyday': 3512, 'phrase': 3513, 'deeper': 3514, 'steven': 3515, 'hawking': 3516, 'committing': 3517, 'gunboats': 3518, 'helicopter': 3519, 'gunships': 3520, 'tanks': 3521, 'bulldozers': 3522, 'drones': 3523, 'peasant': 3524, 'saddle': 3525, 'sen': 3526, 'mitt': 3527, 'romney': 3528, 'wwg1wga': 3529, 'utah': 3530, 'fuhrking': 3531, 'shovel': 3532, 'chevy': 3533, 'faggots': 3534, 'medal': 3535, 'contest': 3536, 'beheaded': 3537, '369': 3538, 'pump': 3539, 'rookie': 3540, 'achieving': 3541, \"owen's\": 3542, 'mortification': 3543, 'sin': 3544, 'studies': 3545, 'doubled': 3546, 'curious': 3547, 'dreaming': 3548, 'braces': 3549, 'mussolini': 3550, 'shia': 3551, 'erection': 3552, 'behan': 3553, 'kidhar': 3554, 'marokko': 3555, 'dumped': 3556, 'eyed': 3557, 'website': 3558, 'orphans': 3559, 'feminist': 3560, 'equally': 3561, 'agreeing': 3562, 'intensifies': 3563, 'stoner': 3564, 'fridge': 3565, 'mouse': 3566, 'accused': 3567, 'beastiality': 3568, 'talks': 3569, \"goat's\": 3570, 'hindu': 3571, 'true': 3572, 'respect': 3573, 'opinion': 3574, 'scented': 3575, 'pokeballs': 3576, 'pauline': 3577, 'hanson': 3578, 'warns': 3579, 'obey': 3580, 'pillage': 3581, 'riot': 3582, 'reap': 3583, 'havoc': 3584, 'welfare': 3585, 'promise': 3586, 'thingy': 3587, 'yell': 3588, 'undocumented': 3589, 'criminal': 3590, 'trespassers': 3591, 'gang': 3592, 'popsicle': 3593, 'shrimp': 3594, 'bucks': 3595, 'rolling': 3596, 'prices': 3597, 'farther': 3598, 'wal': 3599, 'mart': 3600, 'flutes': 3601, 'drums': 3602, 'sash': 3603, 'anaconda': 3604, 'inch': 3605, 'disconnect': 3606, 'dj': 3607, 'khaled': 3608, 'suffering': 3609, 'ss': 3610, 'umbra': 3611, 'miami': 3612, 'dolphins': 3613, 'highlights': 3614, 'allow': 3615, 'cannibalism': 3616, 'sasha': 3617, 'malia': 3618, 'zero': 3619, 'petting': 3620, 'gmc': 3621, '3d': 3622, 'visualization': 3623, 'atomic': 3624, 'blowin': 3625, 'rocks': 3626, 'goatshit': 3627, 'ruled': 3628, 'barbric': 3629, 'protestants': 3630, 'usual': 3631, 'survivors': 3632, 'confession': 3633, 'brunch': 3634, 'mall': 3635, 'nickname': 3636, 'count': 3637, 'spy': 3638, \"'peaceful\": 3639, \"president's\": 3640, 'wrinkle': 3641, \"ole'\": 3642, 'nutsack': 3643, 'potter': 3644, 'managed': 3645, 'chambers': 3646, 'fuhrerious': 3647, 'habibi': 3648, 'periods': 3649, 'kilometers': 3650, 'supporter': 3651, 'building': 3652, 'credit': 3653, 'thatextra': 3654, 'months': 3655, 'original': 3656, 'create': 3657, 'survivor': 3658, 'birkenau': 3659, 'scumbags': 3660, 'waited': 3661, 'chocolatey': 3662, 'starvi': 3663, 'hungerstruck': 3664, 'sexually': 3665, 'harass': 3666, 'vice': 3667, \"'first\": 3668, 'obviosly': 3669, 'footage': 3670, 'gift': 3671, 'packs': 3672, 'treason': 3673, 'alternative': 3674, 'forest': 3675, 'whitaker': 3676, 'mlk': 3677, 'washington': 3678, 'pork': 3679, 'dripping': 3680, 'rub': 3681, 'rotherham': 3682, 'yrs': 3683, 'improved': 3684, 'millions': 3685, 'documentary': 3686, 'premiers': 3687, 'wednesday': 3688, 'final': 3689, 'surgery': 3690, 'handcuff': 3691, 'stories': 3692, 'officers': 3693, 'pedal': 3694, 'patrick': 3695, 'electrician': 3696, 'shorts': 3697, 'photoshop': 3698, \"woman's\": 3699, 'clit': 3700, 'revert': 3701, 'factory': 3702, 'settings': 3703, \"all's\": 3704, 'arabs': 3705, 'deer': 3706, 'spicy': 3707, 'jannah': 3708, 'irritate': 3709, 'assholes': 3710, 'fine': 3711, 'littering': 3712, 'electoral': 3713, 'ncaa': 3714, 'tournament': 3715, 'wanted': 3716, 'fled': 3717, 'quokkas': 3718, 'toss': 3719, 'predators': 3720, 'movies': 3721, '238': 3722, 'increases': 3723, '93': 3724, 'catholic': 3725, 'protects': 3726, 'preists': 3727, 'shunned': 3728, 'nosey': 3729, 'tattle': 3730, \"two's\": 3731, 'waking': 3732, 'bihari': 3733, 'annoying': 3734, 'nagasaki': 3735, 'advice': 3736, 'revolution': 3737, 'serious': 3738, 'able': 3739, 'afford': 3740, 'embrace': 3741, 'freedom': 3742, 'gangster': 3743, 'gettig': 3744, 'lgtbetc': 3745, 'maintain': 3746, 'rates': 3747, 'proving': 3748, 'darwin': 3749, 'worry': 3750, 'exclusion': 3751, 'painting': 3752, 'handbook': 3753, 'guinea': 3754, 'laura': 3755, 'bike': 3756, 'violated': 3757, 'kenyans': 3758, 'leading': 3759, 'hague': 3760, 'climbing': 3761, 'downstairs': 3762, 'indicates': 3763, 'further': 3764, 'indictments': 3765, 'guide': 3766, 'ending': 3767, 'challah': 3768, 'ancestry': 3769, 'ilegals': 3770, 'agreeignt': 3771, 'roger': 3772, 'uno': 3773, 'logan': 3774, 'kerry': 3775, 'treasonous': 3776, 'pos': 3777, 'unarmed': 3778, 'nibbas': 3779, 'ticc': 3780, 'fresh': 3781, 'grope': 3782, 'careful': 3783, 'snake': 3784, 'beads': 3785, 'slowly': 3786, 'chainsaw': 3787, 'parent': 3788, 'understands': 3789, 'gravity': 3790, 'location': 3791, 'pie': 3792, 'cares': 3793, 'dash': 3794, \"you's\": 3795, 'stir': 3796, 'shove': 3797, 'peacful': 3798, 'portraits': 3799, 'fifth': 3800, 'eats': 3801, 'muhammad': 3802, 'throatagraph': 3803, 'investigation': 3804, 'leads': 3805, 'chimps': 3806, 'bestfriend': 3807, 'mobile': 3808, 'nun': 3809, 'sitting': 3810, 'cart': 3811, 'london': 3812, '1970': 3813, 'invention': 3814, 'milwaukee': 3815, 'tastes': 3816, 'platform': 3817, 'regain': 3818, 'kool': 3819, 'britney': 3820, 'stephen': 3821, 'miller': 3822, 'architect': 3823, 'seperate': 3824, 'sensitive': 3825, 'mayo': 3826, 'nikker': 3827, 'cheated': 3828, 'ahh': 3829, \"would've\": 3830, 'noisy': 3831, 'mamma': 3832, 'warning': 3833, 'fireworks': 3834, 'iroc': 3835, 'z': 3836, 'retards': 3837, \"'cruising'\": 3838, 'ernie': 3839, 'leaves': 3840, 'clues': 3841, 'locked': 3842, \"birthday's\": 3843, 'cowbell': 3844, 'pretend': 3845, 'pretended': 3846, 'killings': 3847, 'spam': 3848, 'kdrama': 3849, 'kpop': 3850, 'gracing': 3851, 'divine': 3852, 'spanish': 3853, 'across': 3854, 'corpse': 3855, 'muhammed': 3856, 'removin': 3857, 'trailer': 3858, 'zola': 3859, 'unathi': 3860, 'umsunu': 3861, 'nationally': 3862, 'unoxolo': 3863, 'kodwa': 3864, 'address': 3865, 'bellas': 3866, 'didnt': 3867, 'hush': 3868, 'pornhub': 3869, 'buffering': 3870, 'fixes': 3871, 'feels': 3872, 'spouse': 3873, 'deporting': 3874, 'baldwin': 3875, 'cent': 3876, 'zimbabwe': 3877, 'homework': 3878, 'joins': 3879, 'indulge': 3880, 'seated': 3881, 'supremacist': 3882, 'proclivities': 3883, 'helping': 3884, 'minorities': 3885, 'snail': 3886, 'neither': 3887, 'vowed': 3888, 'conduct': 3889, 'muesli': 3890, 'ritual': 3891, 'cleanse': 3892, 'wing': 3893, 'evils': 3894, 'lie': 3895, 'honey': 3896, 'prefer': 3897, 'criminals': 3898, 'checkpoint': 3899, 'buttholes': 3900, 'target': 3901, 'safely': 3902, 'returning': 3903, 'lav': 3904, 'lure': 3905, 'position': 3906, 'decoy': 3907, 'execute': 3908, 'plan': 3909, 'happier': 3910, 'rosenbergs': 3911, 'executed': 3912, '1953': 3913, 'clintons': 3914, 'material': 3915, 'development': 3916, 'weaponsto': 3917, 'disliked': 3918, 'astonishing': 3919, 'stoke': 3920, 'puto': 3921, \"he'd\": 3922, 'chuck': 3923, 'norris': 3924, 'collection': 3925, 'gain': 3926, 'epstein': 3927, 'ghetto': 3928, 'tilts': 3929, 'peddle': 3930, 'offend': 3931, 'bright': 3932, 'upon': 3933, 'toys': 3934, 'rep': 3935, 'pledge': 3936, 'including': 3937, 'dem': 3938, 'representative': 3939, 'quote': 3940, 'jewsy': 3941, 'believes': 3942, 'genetically': 3943, 'superior': 3944, '7': 3945, 'rioting': 3946, 'mentioned': 3947, 'clubbing': 3948, 'economic': 3949, 'miracles': 3950, 'joe': 3951, 'biden': 3952, 'himself': 3953, 'prisoners': 3954, 'ussr': 3955, 'colorized': 3956, 'unhumanrights': 3957, 'plunger': 3958, \"'cause\": 3959, \"they'd\": 3960, '365': 3961, 'ants': 3962, 'uncles': 3963, 'dozens': 3964, \"warrior's\": 3965, 'funeral': 3966, 'palestine': 3967, 'roasting': 3968, 'shits': 3969, 'abilty': 3970, 'disability': 3971, 'stab': 3972, 'neck': 3973, 'susan': 3974, 'dated': 3975, 'yall': 3976, 'lifestyle': 3977, 'enemies': 3978, \"practice's\": 3979, 'halloween': 3980, 'garlic': 3981, 'festival': 3982, 'el': 3983, 'paso': 3984, 'dayton': 3985, 'eerily': 3986, 'awake': 3987, 'japan': 3988, 'invade': 3989, 'mainland': 3990, 'listens': 3991, \"grande's\": 3992, 'cornbread': 3993, 'species': 3994, 'sucked': 3995, 'ball': 3996, 'baking': 3997, 'unfortunately': 3998, 'checking': 3999, 'e': 4000, 'humper': 4001, 'ma': 4002, 'chickin': 4003, \"men's\": 4004, 'physiological': 4005, 'response': 4006, 'kissing': 4007, 'maggots': 4008, 'assured': 4009, 'soil': 4010, 'dipped': 4011, 'grease': 4012, 'smothered': 4013, 'cafe': 4014, 'holo': 4015, 'teenage': 4016, 'minds': 4017, 'alike': 4018, 'th': 4019, 'wwe': 4020, 'ppv': 4021, 'll': 4022, 'incineration': 4023, 'junkie': 4024, \"man's\": 4025, 'mans': 4026, 'treasure': 4027, 'nativity': 4028, 'invited': 4029, 'juicy': 4030, 'adhd': 4031, 'review': 4032, 'sellout': 4033, 'clarke': 4034, 'whitlock': 4035, 'pastor': 4036, 'sheriff': 4037, 'celebrating': 4038, 'ebt': 4039, 'cuts': 4040, 'craving': 4041, \"f'ing\": 4042, 'strike': 4043, 'bois': 4044, 'suppressors': 4045, 'shopping': 4046, 'horizontal': 4047, 'recording': 4048, 'fights': 4049, 'nights': 4050, '1776': 4051, 'dummies': 4052, '4th': 4053, 'grandpas': 4054, 'tractor': 4055, 'broke': 4056, 'liar': 4057, 'throat': 4058, 'invites': 4059, 'optimisim': 4060, 'allahbomber': 4061, 'putting': 4062, 'sancuary': 4063, 'moms': 4064, 'spastic': 4065, 'tragedy': 4066, 'majestic': 4067, 'pot': 4068, 'wake': 4069, \"fucker's\": 4070, 'limber': 4071, 'blowjobs': 4072, 'peice': 4073, 'sluts': 4074, 'prince': 4075, 'charming': 4076, 'faceapp': 4077, 'incredible': 4078, 'adopt': 4079, 'locks': 4080, 'adam': 4081, 'schiff': 4082, 'chairman': 4083, 'record': 4084, 'overwhelming': 4085, 'evidence': 4086, 'delivered': 4087, 'investigations': 4088, 'clown': 4089, 'exactly': 4090, 'winchester': 4091, 'pint': 4092, 'thor': 4093, 'anger': 4094, 'issues': 4095, 'mock': 4096, 'weight': 4097, 'thirsty': 4098, 'elders': 4099, 'react': 4100, 'chromies': 4101, 'jumper': 4102, 'detained': 4103, 'patriot': 4104, 'questions': 4105, 'spend': 4106, '25th': 4107, '1920': 4108, 'tans': 4109, 'arrive': 4110, 'ireland': 4111, 'protested': 4112, 'mommy': 4113, 'oo00h': 4114, 'anytime': 4115, 'growls': 4116, 'goddamn': 4117, 'threaten': 4118, 'rohingya': 4119, 'study': 4120, 'quran': 4121, 'shaved': 4122, 'health': 4123, 'sweetie': 4124, 'privilege': 4125, \"brother's\": 4126, 'keeper': 4127, 'replied': 4128, 'capturing': 4129, 'goofy': 4130, 'lamp': 4131, 'countryside': 4132, 'watering': 4133, 'arm': 4134, 'began': 4135, 'mankind': 4136, 'ne': 4137, 'mood': 4138, 'brett': 4139, 'kavanaugh': 4140, 'grabbed': 4141, 'penis': 4142, \"you'res\": 4143, 'captured': 4144, 'massive': 4145, 'orangutan': 4146, 'suitcase': 4147, 'calculate': 4148, 'radius': 4149, 'perfect': 4150, 'showered': 4151, 'bet': 4152, 'hitter': 4153, 'billy': 4154, 'announces': 4155, 'candidacy': 4156, 'passengers': 4157, 'bird': 4158, 'ate': 4159, 'wore': 4160, 'thawb': 4161, 'destroying': 4162, 'max': 4163, 'agility': 4164, 'implant': 4165, 'prospective': 4166, 'alcohols': 4167, 'defense': 4168, 'decisions': 4169, 'youve': 4170, 'autistic': 4171, 'sell': 4172, 'cyril': 4173, 'sa': 4174, 'handjobs': 4175, 'seperately': 4176, 'purple': 4177, 'lipstick': 4178, 'hans': 4179, 'ze': 4180, 'flammenwerfer': 4181, 'gustav': 4182, 'danish': 4183, 'dresses': 4184, 'doubt': 4185, 'stable': 4186, 'buying': 4187, 'overly': 4188, 'attached': 4189, 'angsty': 4190, 'episode': 4191, 'chloroform': 4192, 'sensual': 4193, 'consensual': 4194, 'ungrateful': 4195, 'spit': 4196, 'nintendo': 4197, 'switch': 4198, 'weddings': 4199, 'funerals': 4200, 'fellow': 4201, 'highly': 4202, 'approachable': 4203, 'candidate': 4204, 'eager': 4205, 'swimming': 4206, 'idiots': 4207, 'proved': 4208, 'hahahaha': 4209, 'hated': 4210, 'googled': 4211, 'symptoms': 4212, 'gordon': 4213, 'ramsay': 4214, 'revive': 4215, 'stink': 4216, '16': 4217, 'counting': 4218, 'nice': 4219, 'david': 4220, 'passed': 4221, 'cologne': 4222, 'tricare': 4223, 'deers': 4224, 'tommy': 4225, 'robinson': 4226, 'nashunal': 4227, 'pee': 4228, 'burns': 4229, 'recorded': 4230, '3times': 4231, 'talak': 4232, 'abbu': 4233, 'voice': 4234, 'mum': 4235, 'becuase': 4236, 'divorce': 4237, 'ye': 4238, 'digital': 4239, 'conjoined': 4240, 'twins': 4241, 'wink': 4242, 'dems': 4243, 'medicare': 4244, 'lowkey': 4245, 'admitting': 4246, 'obamacare': 4247, 'prick': 4248, 'sphincter': 4249, 'nose': 4250, 'moving': 4251, 'independence': 4252, 'flags': 4253, 'attacked': 4254, '73': 4255, 'macarena': 4256, 'drops': 4257, 'synagogue': 4258, 'heroes': 4259, 'capes': 4260, 'pink': 4261, 'slips': 4262, 'approves': 4263, 'dumbass': 4264, 'marking': 4265, 'opinions': 4266, 'pissing': 4267, 'hydrants': 4268, 'sarah': 4269, 'jeong': 4270, 'nyt': 4271, 'editor': 4272, 'puke': 4273, 'aaaaaaaaaaaaaah': 4274, 'drawer': 4275, 'wiener': 4276, 'pit': 4277, 'protecting': 4278, 'diarrea': 4279, '1400': 4280, 'inhuman': 4281, 'snowflakes': 4282, 'shocked': 4283, 'roast': 4284, 'peopple': 4285, 'saggin': 4286, 'expression': 4287, 'fashion': 4288, 'return': 4289, 'bigbird': 4290, 'singing': 4291, 'seasame': 4292, 'greed': 4293, 'trevor': 4294, 'chinn': 4295, 'tom': 4296, 'watson': 4297, 'zionists': 4298, 'freshener': 4299, 'ni': 4300, 'wars': 4301, 'lazer': 4302, 'blaster': 4303, 'jizzed': 4304, 'immature': 4305, 'ejaculation': 4306, 'osama': 4307, 'spin': 4308, 'laden': 4309, \"droppin'\": 4310, 'twin': 4311, 'towers': 4312, 'fries': 4313, 'tomorrow': 4314, 'none': 4315, 'kodak': 4316, 'pistol': 4317, 'knee': 4318, 'lucky': 4319, 'samir': 4320, 'stepped': 4321, 'burka': 4322, 'basic': 4323, 'democracy': 4324, 'everlasting': 4325, 'harder': 4326, 'rotissified': 4327, 'contries': 4328, 'porkistan': 4329, 'believing': 4330, 'bullshit': 4331, 'faces': 4332, 'felony': 4333, 'claims': 4334, 'dies': 4335, 'donated': 4336, 'salary': 4337, 'alcoholism': 4338, 'gt3': 4339, 'rs': 4340, 'politcal': 4341, 'correctioness': 4342, 'livestock': 4343, 'technicians': 4344, 'indigenous': 4345, 'whatcha': 4346, \"thinkin'\": 4347, 'antifa': 4348, 'loving': 4349, 'goatshaggers': 4350, 'cousin': 4351, 'amused': 4352, 'hopes': 4353, 'toshiba': 4354, 'chocolates': 4355, 'winnie': 4356, 'pooh': 4357, 'skinny': 4358, 'influenced': 4359, 'europeans': 4360, 'knobheads': 4361, 'ago': 4362, 'field': 4363, 'majored': 4364, 'tips': 4365, \"someone's\": 4366, 'aye': 4367, 'deportation': 4368, 'summers': 4369, 'graduate': 4370, 'baaaa': 4371, 'utiful': 4372, 'according': 4373, 'smh': 4374, 'technology': 4375, 'freckles': 4376, 'nasty': 4377, 'hooke': 4378, 'dumpster': 4379, 'wiretap': 4380, 'barry': 4381, \"''did\": 4382, 'dandruff': 4383, \"''oh\": 4384, \"dashboard''\": 4385, 'systematically': 4386, 'mitch': 4387, 'mcconnell': 4388, 'glory': 4389, 'blink': 4390, 'language': 4391, 'measure': 4392, 'biker': 4393, 'pulled': 4394, 'spyder': 4395, 'sons': 4396, 'anarchy': 4397, 'hoodie': 4398, 'especially': 4399, 'teaching': 4400}\n"
     ]
    }
   ],
   "source": [
    "from keras.preprocessing.text import Tokenizer\n",
    "from keras.preprocessing.sequence import pad_sequences\n",
    "\n",
    "num_words = 500\n",
    "tokenizer = Tokenizer(num_words=num_words, filters='!\"#$%&()*+,-./:;<=>?@[\\\\]^_`{|}~\\t\\n',\n",
    "                                   lower=True,split=' ')\n",
    "tokenizer.fit_on_texts(textlist)\n",
    "X = tokenizer.texts_to_sequences(textlist)\n",
    "word_index = tokenizer.word_index\n",
    "print('Found %s unique tokens.' % len(word_index))\n",
    "\n",
    "max_length_of_text = 40\n",
    "X = pad_sequences(X, maxlen=max_length_of_text)\n",
    "\n",
    "print(word_index)"
   ]
  },
  {
   "cell_type": "code",
   "execution_count": 17,
   "metadata": {},
   "outputs": [],
   "source": [
    "import pickle\n",
    "filename='tokenizer'\n",
    "outfile=open(filename,'wb')\n",
    "pickle.dump(tokenizer,outfile)\n",
    "outfile.close()"
   ]
  },
  {
   "cell_type": "code",
   "execution_count": 18,
   "metadata": {},
   "outputs": [],
   "source": [
    "EMBEDDING_DIM = 25\n",
    "embedding_matrix = np.zeros((len(word_index) + 1, EMBEDDING_DIM))\n",
    "for word, i in word_index.items():\n",
    "    embedding_vector = embeddings_index.get(word)\n",
    "    if embedding_vector is not None:\n",
    "        # words not found in embedding index will be all-zeros.\n",
    "        embedding_matrix[i] = embedding_vector"
   ]
  },
  {
   "cell_type": "code",
   "execution_count": 19,
   "metadata": {},
   "outputs": [],
   "source": [
    "from keras.layers import Embedding\n",
    "\n",
    "embedding_layer = Embedding(len(word_index) + 1,\n",
    "                            EMBEDDING_DIM,\n",
    "                            weights=[embedding_matrix],\n",
    "                            input_length=max_length_of_text,\n",
    "                            trainable=True)"
   ]
  },
  {
   "cell_type": "code",
   "execution_count": 20,
   "metadata": {},
   "outputs": [],
   "source": [
    "X_train=X\n",
    "X_train_images=np.asarray(imglist)\n",
    "X_train_images=X_train_images/255.0"
   ]
  },
  {
   "cell_type": "code",
   "execution_count": 21,
   "metadata": {},
   "outputs": [
    {
     "data": {
      "text/plain": [
       "((2000, 128, 128, 3), (2000, 40), (2000, 2))"
      ]
     },
     "execution_count": 21,
     "metadata": {},
     "output_type": "execute_result"
    }
   ],
   "source": [
    "X_train_images.shape,X_train.shape,y_train.shape"
   ]
  },
  {
   "cell_type": "code",
   "execution_count": 22,
   "metadata": {},
   "outputs": [
    {
     "data": {
      "text/plain": [
       "array([0.66666667, 2.        ])"
      ]
     },
     "execution_count": 22,
     "metadata": {},
     "output_type": "execute_result"
    }
   ],
   "source": [
    "from sklearn.utils import class_weight\n",
    "class_weights = class_weight.compute_class_weight('balanced',\n",
    "                                                 np.unique(class2),\n",
    "                                                 class2)\n",
    "class_weights"
   ]
  },
  {
   "cell_type": "code",
   "execution_count": 43,
   "metadata": {},
   "outputs": [],
   "source": [
    "from keras.layers import Input, Embedding, LSTM, Dense, GRU, Bidirectional, BatchNormalization, Flatten, Dropout\n",
    "from keras.models import Model\n",
    "import keras"
   ]
  },
  {
   "cell_type": "code",
   "execution_count": 44,
   "metadata": {},
   "outputs": [],
   "source": [
    "main_input=Input(shape=(40,))\n",
    "x=embedding_layer(main_input)\n",
    "lstm_out=Bidirectional(LSTM(100,return_sequences=True))(x)\n",
    "lstm_out=Flatten()(lstm_out)\n",
    "lstm_out=Dense(1024,activation='relu')(lstm_out)"
   ]
  },
  {
   "cell_type": "code",
   "execution_count": 45,
   "metadata": {},
   "outputs": [],
   "source": [
    "from keras.applications import VGG16\n",
    "conv_base2=VGG16(include_top=False, weights='imagenet', input_shape=(128,128,3) ,classes=2)"
   ]
  },
  {
   "cell_type": "code",
   "execution_count": 46,
   "metadata": {},
   "outputs": [],
   "source": [
    "conv_base2.trainable = False\n",
    "aux_input=Input(shape=(128,128,3,))\n",
    "y=conv_base2(aux_input)\n",
    "y=Flatten()(y)\n",
    "y=Dense(1024,activation='relu')(y)\n",
    "y=Dropout(0.2)(y)"
   ]
  },
  {
   "cell_type": "code",
   "execution_count": 47,
   "metadata": {},
   "outputs": [],
   "source": [
    "final_x=keras.layers.Concatenate()([lstm_out,y])"
   ]
  },
  {
   "cell_type": "code",
   "execution_count": 48,
   "metadata": {},
   "outputs": [],
   "source": [
    "final_x=Dense(256,activation='relu')(final_x)\n",
    "final_x=Dropout(0.2)(final_x)\n",
    "final_x=Dense(128,activation='relu')(final_x)\n",
    "final_x=Dropout(0.2)(final_x)\n",
    "final_x=Dense(64,activation='relu')(final_x)\n",
    "main_out=Dense(2,activation='softmax')(final_x)"
   ]
  },
  {
   "cell_type": "code",
   "execution_count": 49,
   "metadata": {},
   "outputs": [],
   "source": [
    "model = Model(inputs=[main_input, aux_input], outputs=[main_out])"
   ]
  },
  {
   "cell_type": "code",
   "execution_count": 50,
   "metadata": {},
   "outputs": [],
   "source": [
    "optimizer=keras.optimizers.Adam(lr=0.001)\n",
    "model.compile(optimizer=optimizer, loss='categorical_crossentropy',metrics=['accuracy'])"
   ]
  },
  {
   "cell_type": "code",
   "execution_count": 51,
   "metadata": {},
   "outputs": [
    {
     "name": "stdout",
     "output_type": "stream",
     "text": [
      "Model: \"functional_3\"\n",
      "__________________________________________________________________________________________________\n",
      "Layer (type)                    Output Shape         Param #     Connected to                     \n",
      "==================================================================================================\n",
      "input_6 (InputLayer)            [(None, 40)]         0                                            \n",
      "__________________________________________________________________________________________________\n",
      "input_8 (InputLayer)            [(None, 128, 128, 3) 0                                            \n",
      "__________________________________________________________________________________________________\n",
      "embedding (Embedding)           (None, 40, 25)       110025      input_6[0][0]                    \n",
      "__________________________________________________________________________________________________\n",
      "vgg16 (Functional)              (None, 4, 4, 512)    14714688    input_8[0][0]                    \n",
      "__________________________________________________________________________________________________\n",
      "bidirectional_2 (Bidirectional) (None, 40, 200)      100800      embedding[2][0]                  \n",
      "__________________________________________________________________________________________________\n",
      "flatten_4 (Flatten)             (None, 8192)         0           vgg16[0][0]                      \n",
      "__________________________________________________________________________________________________\n",
      "flatten_3 (Flatten)             (None, 8000)         0           bidirectional_2[0][0]            \n",
      "__________________________________________________________________________________________________\n",
      "dense_8 (Dense)                 (None, 1024)         8389632     flatten_4[0][0]                  \n",
      "__________________________________________________________________________________________________\n",
      "dense_7 (Dense)                 (None, 1024)         8193024     flatten_3[0][0]                  \n",
      "__________________________________________________________________________________________________\n",
      "dropout_3 (Dropout)             (None, 1024)         0           dense_8[0][0]                    \n",
      "__________________________________________________________________________________________________\n",
      "concatenate_1 (Concatenate)     (None, 2048)         0           dense_7[0][0]                    \n",
      "                                                                 dropout_3[0][0]                  \n",
      "__________________________________________________________________________________________________\n",
      "dense_9 (Dense)                 (None, 256)          524544      concatenate_1[0][0]              \n",
      "__________________________________________________________________________________________________\n",
      "dropout_4 (Dropout)             (None, 256)          0           dense_9[0][0]                    \n",
      "__________________________________________________________________________________________________\n",
      "dense_10 (Dense)                (None, 128)          32896       dropout_4[0][0]                  \n",
      "__________________________________________________________________________________________________\n",
      "dropout_5 (Dropout)             (None, 128)          0           dense_10[0][0]                   \n",
      "__________________________________________________________________________________________________\n",
      "dense_11 (Dense)                (None, 64)           8256        dropout_5[0][0]                  \n",
      "__________________________________________________________________________________________________\n",
      "dense_12 (Dense)                (None, 2)            130         dense_11[0][0]                   \n",
      "==================================================================================================\n",
      "Total params: 32,073,995\n",
      "Trainable params: 17,359,307\n",
      "Non-trainable params: 14,714,688\n",
      "__________________________________________________________________________________________________\n"
     ]
    }
   ],
   "source": [
    "model.summary()"
   ]
  },
  {
   "cell_type": "code",
   "execution_count": 52,
   "metadata": {},
   "outputs": [
    {
     "name": "stdout",
     "output_type": "stream",
     "text": [
      "('Failed to import pydot. You must `pip install pydot` and install graphviz (https://graphviz.gitlab.io/download/), ', 'for `pydotprint` to work.')\n"
     ]
    }
   ],
   "source": [
    "from keras.utils.vis_utils import plot_model\n",
    "plot_model(model, to_file='model_plot.png', show_shapes=True, show_layer_names=True)"
   ]
  },
  {
   "cell_type": "code",
   "execution_count": 53,
   "metadata": {},
   "outputs": [
    {
     "name": "stdout",
     "output_type": "stream",
     "text": [
      "Epoch 1/10\n",
      "25/25 [==============================] - 52s 2s/step - loss: 0.7424 - accuracy: 0.6612 - val_loss: 0.5496 - val_accuracy: 0.7775\n",
      "Epoch 2/10\n",
      "25/25 [==============================] - 71s 3s/step - loss: 0.6196 - accuracy: 0.7181 - val_loss: 0.5452 - val_accuracy: 0.7775\n",
      "Epoch 3/10\n",
      "25/25 [==============================] - 73s 3s/step - loss: 0.5867 - accuracy: 0.7425 - val_loss: 0.5277 - val_accuracy: 0.7775\n",
      "Epoch 4/10\n",
      "25/25 [==============================] - 79s 3s/step - loss: 0.5675 - accuracy: 0.7381 - val_loss: 0.5170 - val_accuracy: 0.7775\n",
      "Epoch 5/10\n",
      "25/25 [==============================] - 80s 3s/step - loss: 0.5265 - accuracy: 0.7444 - val_loss: 0.5147 - val_accuracy: 0.7750\n",
      "Epoch 6/10\n",
      "25/25 [==============================] - 76s 3s/step - loss: 0.5077 - accuracy: 0.7650 - val_loss: 0.5272 - val_accuracy: 0.7850\n",
      "Epoch 7/10\n",
      "25/25 [==============================] - 80s 3s/step - loss: 0.4303 - accuracy: 0.7887 - val_loss: 0.6636 - val_accuracy: 0.7825\n",
      "Epoch 8/10\n",
      "25/25 [==============================] - 80s 3s/step - loss: 0.3734 - accuracy: 0.8344 - val_loss: 0.5533 - val_accuracy: 0.7625\n",
      "Epoch 9/10\n",
      "25/25 [==============================] - 89s 4s/step - loss: 0.2999 - accuracy: 0.8794 - val_loss: 0.7877 - val_accuracy: 0.5925\n",
      "Epoch 10/10\n",
      "25/25 [==============================] - 94s 4s/step - loss: 0.2154 - accuracy: 0.9162 - val_loss: 0.8646 - val_accuracy: 0.6250\n"
     ]
    }
   ],
   "source": [
    "hist=model.fit([X_train,X_train_images],y_train,epochs=10,batch_size=64,validation_split=0.2,workers=0)"
   ]
  },
  {
   "cell_type": "code",
   "execution_count": 55,
   "metadata": {},
   "outputs": [
    {
     "name": "stdout",
     "output_type": "stream",
     "text": [
      "dict_keys(['loss', 'accuracy', 'val_loss', 'val_accuracy'])\n"
     ]
    }
   ],
   "source": [
    "print(hist.history.keys())"
   ]
  },
  {
   "cell_type": "code",
   "execution_count": 56,
   "metadata": {},
   "outputs": [
    {
     "data": {
      "image/png": "[encoded data removed]",
      "text/plain": [
       "<Figure size 432x288 with 1 Axes>"
      ]
     },
     "metadata": {
      "needs_background": "light"
     },
     "output_type": "display_data"
    }
   ],
   "source": [
    "import matplotlib.pyplot as plt\n",
    "\n",
    "plt.plot(hist.history['accuracy'])\n",
    "plt.title('model accuracy')\n",
    "plt.ylabel('accuracy')\n",
    "plt.xlabel('epoch')\n",
    "plt.legend(['train', 'test'], loc='upper left')\n",
    "plt.show()"
   ]
  },
  {
   "cell_type": "code",
   "execution_count": 57,
   "metadata": {},
   "outputs": [
    {
     "data": {
      "image/png": "[encoded data removed]",
      "text/plain": [
       "<Figure size 432x288 with 1 Axes>"
      ]
     },
     "metadata": {
      "needs_background": "light"
     },
     "output_type": "display_data"
    }
   ],
   "source": [
    "plt.plot(hist.history['loss'])  \n",
    "plt.title('model loss')  \n",
    "plt.ylabel('loss')  \n",
    "plt.xlabel('epoch')  \n",
    "plt.legend(['train', 'test'], loc='upper left')  \n",
    "plt.show()  "
   ]
  },
  {
   "cell_type": "code",
   "execution_count": 58,
   "metadata": {},
   "outputs": [
    {
     "data": {
      "image/png": "[encoded data removed]",
      "text/plain": [
       "<Figure size 432x288 with 1 Axes>"
      ]
     },
     "metadata": {
      "needs_background": "light"
     },
     "output_type": "display_data"
    }
   ],
   "source": [
    "plt.plot(hist.history['val_loss'])  \n",
    "plt.title('model loss')  \n",
    "plt.ylabel('val_loss')  \n",
    "plt.xlabel('epoch')  \n",
    "plt.legend(['train', 'test'], loc='upper left')  \n",
    "plt.show()  "
   ]
  },
  {
   "cell_type": "code",
   "execution_count": 60,
   "metadata": {},
   "outputs": [
    {
     "data": {
      "image/png": "[encoded data removed]",
      "text/plain": [
       "<Figure size 432x288 with 1 Axes>"
      ]
     },
     "metadata": {
      "needs_background": "light"
     },
     "output_type": "display_data"
    }
   ],
   "source": [
    "plt.plot(hist.history['val_accuracy'])  \n",
    "plt.title('model acc')  \n",
    "plt.ylabel('val_acc')  \n",
    "plt.xlabel('epoch')  \n",
    "plt.legend(['train', 'test'], loc='upper left')  \n",
    "plt.show()  "
   ]
  },
  {
   "cell_type": "code",
   "execution_count": null,
   "metadata": {},
   "outputs": [],
   "source": []
  }
 ],
 "metadata": {
  "kernelspec": {
   "display_name": "Python 3",
   "language": "python",
   "name": "python3"
  },
  "language_info": {
   "codemirror_mode": {
    "name": "ipython",
    "version": 3
   },
   "file_extension": ".py",
   "mimetype": "text/x-python",
   "name": "python",
   "nbconvert_exporter": "python",
   "pygments_lexer": "ipython3",
   "version": "3.7.6"
  }
 },
 "nbformat": 4,
 "nbformat_minor": 4
}
